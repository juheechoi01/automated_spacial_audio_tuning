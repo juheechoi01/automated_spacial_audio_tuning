{
 "cells": [
  {
   "cell_type": "code",
   "execution_count": 49,
   "id": "175923e1",
   "metadata": {},
   "outputs": [],
   "source": [
    "import cv2\n",
    "import mediapipe as mp\n",
    "import numpy as np\n",
    "\n",
    "mp_drawing = mp.solutions.drawing_utils\n",
    "mp_drawing_styles = mp.solutions.drawing_styles\n",
    "mp_face_mesh = mp.solutions.face_mesh\n",
    "\n",
    "#파일 위치 미리 지정\n",
    "input_video_path = \"S#17 C#3 촬영본.mp4\"\n",
    "save_video_path = 'S#17 C#3 촬영본_output.mp4'\n",
    "\n",
    "cap = cv2.VideoCapture(input_video_path)\n",
    "\n",
    "#재생할 파일의 넓이와 높이\n",
    "width = cap.get(cv2.CAP_PROP_FRAME_WIDTH)\n",
    "height = cap.get(cv2.CAP_PROP_FRAME_HEIGHT)\n",
    "#video controller\n",
    "fourcc = cv2.VideoWriter_fourcc(*'mp4v')\n",
    "out = cv2.VideoWriter(save_video_path, fourcc, 30, (int(width), int(height)))\n",
    "position = []\n",
    "\n",
    "with mp_face_mesh.FaceMesh(min_detection_confidence = 0.5) as face_mesh:\n",
    "    while cap.isOpened():\n",
    "        success, image = cap.read()\n",
    "        if not success:\n",
    "            break\n",
    "        \n",
    "        # 필요에 따라 성능 향상을 위해 이미지 작성을 불가능함으로 기본 설정합니다.\n",
    "        image.flags.writeable = False\n",
    "        image = cv2.cvtColor(image, cv2.COLOR_BGR2RGB)\n",
    "        results = face_mesh.process(image)\n",
    "        \n",
    "        # 포즈 주석을 이미지 위에 그립니다.\n",
    "        image.flags.writeable = True\n",
    "        image = cv2.cvtColor(image, cv2.COLOR_RGB2BGR)\n",
    "        \n",
    "        frame_vector_x = []\n",
    "        \n",
    "        if results.multi_face_landmarks:            \n",
    "            for idx, point in enumerate(results.multi_face_landmarks[0].landmark):\n",
    "                height, width, _ = image.shape\n",
    "                #cx, cy 자체가 좌표값. 2021년 이후로 x,y값만 알려주고 있음\n",
    "                cx, cy = int(point.x * width), int(point.y * height)\n",
    "                if idx in [0, 11, 12, 13, 14, 15, 16, 17]:\n",
    "                    frame_vector_x.append(point.x)\n",
    "                    cv2.circle(image, (cx, cy), 3, (0,255,0), -1) \n",
    "            # 점들의 x값들의 평균을 내어 1개의 값으로 저장. \n",
    "            my_array = np.array(frame_vector_x)\n",
    "            position.append(my_array.mean())\n",
    "        else:\n",
    "            position.append(0)\n",
    "                \n",
    "\n",
    "        cv2.imshow('Face Mesh', image)\n",
    "        out.write(image)\n",
    "        if cv2.waitKey(1) & 0xFF == 27:  # 'Esc' 키를 누르면 종료\n",
    "            break\n",
    "\n",
    "# 정리 작업\n",
    "cap.release()\n",
    "out.release()\n",
    "cv2.destroyAllWindows()"
   ]
  },
  {
   "cell_type": "code",
   "execution_count": 57,
   "id": "dc625ee4",
   "metadata": {},
   "outputs": [],
   "source": [
    "new_1 = []\n",
    "for i in position:\n",
    "    if i != 0:\n",
    "        new_1.append(i)\n",
    "        "
   ]
  },
  {
   "cell_type": "code",
   "execution_count": 59,
   "id": "178500e2",
   "metadata": {},
   "outputs": [
    {
     "data": {
      "text/plain": [
       "371"
      ]
     },
     "execution_count": 59,
     "metadata": {},
     "output_type": "execute_result"
    }
   ],
   "source": [
    "len(new_1)"
   ]
  },
  {
   "cell_type": "code",
   "execution_count": 60,
   "id": "3a89a152",
   "metadata": {},
   "outputs": [
    {
     "data": {
      "text/plain": [
       "1335"
      ]
     },
     "execution_count": 60,
     "metadata": {},
     "output_type": "execute_result"
    }
   ],
   "source": [
    "len(position)"
   ]
  },
  {
   "cell_type": "code",
   "execution_count": 4,
   "id": "811619f5",
   "metadata": {},
   "outputs": [
    {
     "data": {
      "text/plain": [
       "5936"
      ]
     },
     "execution_count": 4,
     "metadata": {},
     "output_type": "execute_result"
    }
   ],
   "source": [
    "len(position[position!=0])"
   ]
  },
  {
   "cell_type": "code",
   "execution_count": 5,
   "id": "5eed6729",
   "metadata": {},
   "outputs": [
    {
     "data": {
      "text/plain": [
       "371.0"
      ]
     },
     "execution_count": 5,
     "metadata": {},
     "output_type": "execute_result"
    }
   ],
   "source": [
    "5936/16"
   ]
  },
  {
   "cell_type": "markdown",
   "id": "3b1978cd",
   "metadata": {},
   "source": [
    "# 음향 조절"
   ]
  },
  {
   "cell_type": "code",
   "execution_count": 40,
   "id": "9582a0db",
   "metadata": {},
   "outputs": [
    {
     "name": "stdout",
     "output_type": "stream",
     "text": [
      "Collecting pydub\n",
      "  Downloading pydub-0.25.1-py2.py3-none-any.whl (32 kB)\n",
      "Installing collected packages: pydub\n",
      "Successfully installed pydub-0.25.1\n",
      "Note: you may need to restart the kernel to use updated packages.\n"
     ]
    }
   ],
   "source": [
    "pip install pydub"
   ]
  },
  {
   "cell_type": "code",
   "execution_count": 61,
   "id": "e66c8658",
   "metadata": {},
   "outputs": [],
   "source": [
    "from pydub import AudioSegment\n",
    "from pydub.playback import play"
   ]
  },
  {
   "cell_type": "code",
   "execution_count": 10,
   "id": "7b17af02",
   "metadata": {},
   "outputs": [
    {
     "name": "stderr",
     "output_type": "stream",
     "text": [
      "Input #0, wav, from '/var/folders/4q/x88w9k7d1nnbv253rtfwdzc00000gn/T/tmp671xi1ti.wav':\n",
      "  Duration: 00:00:19.75, bitrate: 1411 kb/s\n",
      "  Stream #0:0: Audio: pcm_s32le ([1][0][0][0] / 0x0001), 22050 Hz, 2 channels, s32, 1411 kb/s\n",
      "  19.70 M-A: -0.000 fd=   0 aq=    0KB vq=    0KB sq=    0B f=0/0   \r"
     ]
    },
    {
     "name": "stdout",
     "output_type": "stream",
     "text": [
      "\n"
     ]
    }
   ],
   "source": [
    "from pydub import AudioSegment\n",
    "from pydub.playback import play\n",
    "\n",
    "AudioSegment.converter = '/usr/local/bin/ffmpeg'\n",
    "\n",
    "def adjust_lr_volume(audio_path, left_volume=1.0, right_volume=1.0):\n",
    "    # 오디오 파일 로드\n",
    "    sound = AudioSegment.from_file(audio_path)\n",
    "\n",
    "    # 좌우 볼륨 조절\n",
    "    sound = sound._spawn(sound.raw_data, overrides={\n",
    "        \"frame_rate\": int(sound.frame_rate),\n",
    "        \"channels\": 2\n",
    "    })\n",
    "\n",
    "    sound = sound.set_frame_rate(44100)  # 적절한 frame_rate로 설정 (원하는 값으로 변경 가능)\n",
    "    sound = sound.set_channels(2)  # 스테레오로 설정\n",
    "\n",
    "    left_channel = sound.split_to_mono()[0]\n",
    "    right_channel = sound.split_to_mono()[1]\n",
    "\n",
    "    left_channel = left_channel._spawn(left_channel.raw_data, overrides={\n",
    "        \"frame_rate\": int(left_channel.frame_rate * left_volume),\n",
    "    })\n",
    "\n",
    "    right_channel = right_channel._spawn(right_channel.raw_data, overrides={\n",
    "        \"frame_rate\": int(right_channel.frame_rate * right_volume),\n",
    "    })\n",
    "\n",
    "    sound = AudioSegment.from_mono_audiosegments(left_channel, right_channel)\n",
    "\n",
    "    return sound\n",
    "\n",
    "if __name__ == \"__main__\":\n",
    "    input_audio_path = \"S#17 후시녹음.wav\"  # 음원 파일 경로를 적절히 수정하세요.\n",
    "\n",
    "    # 좌우 볼륨 조절 (0.5는 절반 크기)\n",
    "    adjusted_sound = adjust_lr_volume(input_audio_path, left_volume=0.5, right_volume=0.5)\n",
    "\n",
    "    # 결과 저장\n",
    "    adjusted_sound.export(\"output_audio.mp3\", format=\"mp3\")\n",
    "\n",
    "    # 결과 재생 (재생 시에는 pydub.playback.play() 대신에 다른 재생 방법을 사용할 수 있습니다.)\n",
    "    play(adjusted_sound)"
   ]
  },
  {
   "cell_type": "code",
   "execution_count": 7,
   "id": "17e337a4",
   "metadata": {},
   "outputs": [
    {
     "name": "stderr",
     "output_type": "stream",
     "text": [
      "Input #0, wav, from '/var/folders/4q/x88w9k7d1nnbv253rtfwdzc00000gn/T/tmpbnutns4h.wav':\n",
      "  Duration: 00:00:09.88, bitrate: 3072 kb/s\n",
      "  Stream #0:0: Audio: pcm_s32le ([1][0][0][0] / 0x0001), 48000 Hz, 2 channels, s32, 3072 kb/s\n",
      "   9.78 M-A: -0.000 fd=   0 aq=    0KB vq=    0KB sq=    0B f=0/0   \r"
     ]
    },
    {
     "name": "stdout",
     "output_type": "stream",
     "text": [
      "\n"
     ]
    },
    {
     "name": "stderr",
     "output_type": "stream",
     "text": [
      "   9.81 M-A: -0.000 fd=   0 aq=    0KB vq=    0KB sq=    0B f=0/0   \r"
     ]
    }
   ],
   "source": [
    "audio = AudioSegment.from_wav('S#17 후시녹음.wav')\n",
    "left_channel = audio.split_to_mono()[0]  # 왼쪽 채널\n",
    "right_channel = audio.split_to_mono()[1]  # 오른쪽 채널\n",
    "\n",
    "# 왼쪽 채널 강조\n",
    "left_channel = left_channel + 10  # 예시로 10dB 강조\n",
    "\n",
    "# 오른쪽 채널 약화\n",
    "right_channel = right_channel - 10  # 예시로 10dB 약화\n",
    "\n",
    "# 왼쪽과 오른쪽 채널을 다시 합칩니다.\n",
    "modified_audio = AudioSegment.from_mono_audiosegments(left_channel, right_channel)\n",
    "\n",
    "# 결과 오디오를 저장하거나 재생합니다.\n",
    "modified_audio.export(\"modified_audio.mp3\", format=\"mp3\")\n",
    "play(modified_audio)"
   ]
  },
  {
   "cell_type": "code",
   "execution_count": 8,
   "id": "4086295f",
   "metadata": {},
   "outputs": [],
   "source": [
    "# 각 프레임에 대해 왼쪽과 오른쪽 채널을 조절하는 예시. \n",
    "from pydub import AudioSegment\n",
    "\n",
    "def adjust_sound_by_time(input_file, output_file):\n",
    "    # 오디오 파일 읽기\n",
    "    audio = AudioSegment.from_file(input_file)\n",
    "\n",
    "    # 시간에 따라 왼쪽과 오른쪽 사운드를 다르게 조절\n",
    "    for i in range(len(audio)):\n",
    "        # 예시로 1초마다 왼쪽은 -5dB, 오른쪽은 +5dB 조절\n",
    "        left_channel = audio[i].split_to_mono()[0] - 5\n",
    "        right_channel = audio[i].split_to_mono()[1] + 5\n",
    "\n",
    "        # 왼쪽과 오른쪽 채널을 다시 합치기\n",
    "        modified_audio = AudioSegment.from_mono_audiosegments(left_channel, right_channel)\n",
    "\n",
    "        # 조절된 오디오를 원래 위치에 덮어쓰기\n",
    "        audio = audio.overlay(modified_audio, position=i)\n",
    "\n",
    "    # 조절된 오디오를 새로운 파일로 내보내기\n",
    "    audio.export(output_file, format=\"mp3\")\n",
    "\n",
    "# 사용 예시\n",
    "input_file = \"S#17 후시녹음.wav\"\n",
    "output_file = \"output_audio_adjusted.mp3\"\n",
    "adjust_sound_by_time(input_file, output_file)"
   ]
  },
  {
   "cell_type": "code",
   "execution_count": 9,
   "id": "def52156",
   "metadata": {},
   "outputs": [
    {
     "data": {
      "text/plain": [
       "9877"
      ]
     },
     "execution_count": 9,
     "metadata": {},
     "output_type": "execute_result"
    }
   ],
   "source": [
    "len(audio)"
   ]
  },
  {
   "cell_type": "code",
   "execution_count": 12,
   "id": "4fbe6a1f",
   "metadata": {},
   "outputs": [],
   "source": [
    "from pydub import AudioSegment\n",
    "\n",
    "def adjust_sound_by_x_coordinate(input_file, output_file):\n",
    "    # 오디오 파일 읽기\n",
    "    audio = AudioSegment.from_file(input_file)\n",
    "\n",
    "    # 주어진 x 좌표 값에 따라 왼쪽과 오른쪽 사운드를 조절\n",
    "    for i in range(len(audio)):\n",
    "        # 예시로 x 좌표 값이 50일 때, 오른쪽은 +5dB, 왼쪽은 -5dB 조절\n",
    "        x_coordinate = 50  # 예시 값, 실제로는 적절한 x 좌표 값을 사용해야 합니다.\n",
    "        adjustment = (x_coordinate - i) / 10  # 예시로 x 좌표 값과 프레임 위치에 따라 조절값 계산\n",
    "\n",
    "        left_channel = audio[i].split_to_mono()[0] - adjustment\n",
    "        right_channel = audio[i].split_to_mono()[1] + adjustment\n",
    "\n",
    "        # 왼쪽과 오른쪽 채널을 다시 합치기\n",
    "        modified_audio = AudioSegment.from_mono_audiosegments(left_channel, right_channel)\n",
    "\n",
    "        # 조절된 오디오를 원래 위치에 덮어쓰기\n",
    "        audio = audio.overlay(modified_audio, position=i)\n",
    "\n",
    "    # 조절된 오디오를 새로운 파일로 내보내기\n",
    "    audio.export(output_file, format=\"mp3\")\n",
    "\n",
    "# 사용 예시\n",
    "input_file = \"S#17 후시녹음.wav\"\n",
    "output_file = \"output_audio_adjusted_by_x.mp3\"\n",
    "adjust_sound_by_x_coordinate(input_file, output_file)"
   ]
  },
  {
   "cell_type": "code",
   "execution_count": 19,
   "id": "dfac616d",
   "metadata": {},
   "outputs": [
    {
     "data": {
      "text/plain": [
       "9877"
      ]
     },
     "execution_count": 19,
     "metadata": {},
     "output_type": "execute_result"
    }
   ],
   "source": [
    "# 표시상 9초\n",
    "audio = AudioSegment.from_file(input_file)\n",
    "len(audio)"
   ]
  },
  {
   "cell_type": "code",
   "execution_count": 62,
   "id": "179b523c",
   "metadata": {},
   "outputs": [
    {
     "data": {
      "text/plain": [
       "4238"
      ]
     },
     "execution_count": 62,
     "metadata": {},
     "output_type": "execute_result"
    }
   ],
   "source": [
    "#표시상 4초\n",
    "audio = AudioSegment.from_file('S#17 C#3 후시녹음.wav')\n",
    "len(audio) "
   ]
  },
  {
   "cell_type": "code",
   "execution_count": 64,
   "id": "08f5b725",
   "metadata": {},
   "outputs": [
    {
     "data": {
      "text/html": [
       "\n",
       "                    <audio controls>\n",
       "                        <source src=\"data:audio/mpeg;base64,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\" type=\"audio/mpeg\"/>\n",
       "                        Your browser does not support the audio element.\n",
       "                    </audio>\n",
       "                  "
      ],
      "text/plain": [
       "<pydub.audio_segment.AudioSegment at 0x153995b90>"
      ]
     },
     "execution_count": 64,
     "metadata": {},
     "output_type": "execute_result"
    }
   ],
   "source": [
    "audio"
   ]
  },
  {
   "cell_type": "code",
   "execution_count": 18,
   "id": "ee7e031b",
   "metadata": {},
   "outputs": [
    {
     "name": "stdout",
     "output_type": "stream",
     "text": [
      "Total duration: 20.577083333333334 seconds\n"
     ]
    }
   ],
   "source": [
    "total_duration = len(audio) / 480  # 샘플링 레이트로 나누어서 시간으로 변환\n",
    "print(\"Total duration:\", total_duration, \"seconds\")"
   ]
  },
  {
   "cell_type": "code",
   "execution_count": 16,
   "id": "9b025e2a",
   "metadata": {},
   "outputs": [
    {
     "data": {
      "text/plain": [
       "48000"
      ]
     },
     "execution_count": 16,
     "metadata": {},
     "output_type": "execute_result"
    }
   ],
   "source": [
    "audio.frame_rate"
   ]
  },
  {
   "cell_type": "code",
   "execution_count": 67,
   "id": "b9223fe1",
   "metadata": {},
   "outputs": [
    {
     "data": {
      "text/plain": [
       "1335"
      ]
     },
     "execution_count": 67,
     "metadata": {},
     "output_type": "execute_result"
    }
   ],
   "source": [
    "len(position)"
   ]
  },
  {
   "cell_type": "code",
   "execution_count": 74,
   "id": "44435301",
   "metadata": {},
   "outputs": [
    {
     "data": {
      "text/plain": [
       "1320"
      ]
     },
     "execution_count": 74,
     "metadata": {},
     "output_type": "execute_result"
    }
   ],
   "source": [
    "44*30"
   ]
  },
  {
   "cell_type": "code",
   "execution_count": 125,
   "id": "67dc5ccd",
   "metadata": {},
   "outputs": [
    {
     "data": {
      "text/plain": [
       "30.0"
      ]
     },
     "execution_count": 125,
     "metadata": {},
     "output_type": "execute_result"
    }
   ],
   "source": [
    "1/44*1320"
   ]
  },
  {
   "cell_type": "code",
   "execution_count": 123,
   "id": "315c6b7e",
   "metadata": {},
   "outputs": [
    {
     "data": {
      "text/plain": [
       "[0,\n",
       " 0,\n",
       " 0.3525012172758579,\n",
       " 0.33940402790904045,\n",
       " 0.32506609708070755,\n",
       " 0.3079763241112232,\n",
       " 0.28934455662965775,\n",
       " 0.26893145591020584,\n",
       " 0.24852763675153255,\n",
       " 0.22987398877739906,\n",
       " 0.21326647698879242,\n",
       " 0.19920839183032513,\n",
       " 0.18674185127019882,\n",
       " 0.17572959698736668,\n",
       " 0.1651958990842104,\n",
       " 0.15829552337527275,\n",
       " 0.1527127232402563,\n",
       " 0.14832199551165104,\n",
       " 0.1445434745401144,\n",
       " 0.14141699858009815,\n",
       " 0.13935436867177486,\n",
       " 0.13803979195654392,\n",
       " 0.13712710700929165,\n",
       " 0.1372253242880106,\n",
       " 0.1377732064574957,\n",
       " 0.1392277330160141,\n",
       " 0.14114617928862572,\n",
       " 0.14314739033579826,\n",
       " 0.14586739614605904,\n",
       " 0.14873515255749226,\n",
       " 0.15235823020339012,\n",
       " 0.15681261010468006,\n",
       " 0.16285374946892262,\n",
       " 0.17088017240166664,\n",
       " 0.18028556928038597,\n",
       " 0.1901735421270132,\n",
       " 0.1985792461782694,\n",
       " 0.2076862957328558,\n",
       " 0.21423183009028435,\n",
       " 0.21993486769497395,\n",
       " 0.22474469244480133,\n",
       " 0.22895619086921215,\n",
       " 0.23141014203429222,\n",
       " 0.2337148431688547,\n",
       " 0.23662418127059937,\n",
       " 0.23869452439248562,\n",
       " 0.24112355709075928,\n",
       " 0.24375574104487896,\n",
       " 0.2462458796799183,\n",
       " 0.24861976504325867,\n",
       " 0.25093783251941204,\n",
       " 0.25382034853100777,\n",
       " 0.25719892606139183,\n",
       " 0.25979384779930115,\n",
       " 0.26237863302230835,\n",
       " 0.265734177082777,\n",
       " 0.26878955215215683,\n",
       " 0.27189742401242256,\n",
       " 0.2748841270804405,\n",
       " 0.27856646105647087,\n",
       " 0.28193554282188416,\n",
       " 0.2849164940416813,\n",
       " 0.28751830756664276,\n",
       " 0.29113752394914627,\n",
       " 0.29514045268297195,\n",
       " 0.2990397997200489,\n",
       " 0.3028208240866661,\n",
       " 0.30698803067207336,\n",
       " 0.309738464653492,\n",
       " 0.3129752688109875,\n",
       " 0.316430501639843,\n",
       " 0.3205600045621395,\n",
       " 0.3232341483235359,\n",
       " 0.3256915621459484,\n",
       " 0.32836175709962845,\n",
       " 0.3308577500283718,\n",
       " 0.33237310126423836,\n",
       " 0.33361445367336273,\n",
       " 0.33346420526504517,\n",
       " 0.33268507197499275,\n",
       " 0.33297526463866234,\n",
       " 0.3321923017501831,\n",
       " 0.3308275081217289,\n",
       " 0.33036693558096886,\n",
       " 0.3288791924715042,\n",
       " 0.326731838285923,\n",
       " 0.32360459864139557,\n",
       " 0.3215431831777096,\n",
       " 0.318232886493206,\n",
       " 0.31644824519753456,\n",
       " 0.31458939984440804,\n",
       " 0.31258851662278175,\n",
       " 0.3102853447198868,\n",
       " 0.30890392139554024,\n",
       " 0.30713895708322525,\n",
       " 0.30525748804211617,\n",
       " 0.3037095181643963,\n",
       " 0.30234452337026596,\n",
       " 0.30062713474035263,\n",
       " 0.2992230914533138,\n",
       " 0.2980668507516384,\n",
       " 0.29656004533171654,\n",
       " 0.2967040427029133,\n",
       " 0.29792333394289017,\n",
       " 0.29725896194577217,\n",
       " 0.29734721779823303,\n",
       " 0.29800527915358543,\n",
       " 0.2966763414442539,\n",
       " 0.2968980222940445,\n",
       " 0.29725852236151695,\n",
       " 0.29797346517443657,\n",
       " 0.2984379455447197,\n",
       " 0.29780660569667816,\n",
       " 0.29676083475351334,\n",
       " 0.2959279268980026,\n",
       " 0.2949052229523659,\n",
       " 0.29399243369698524,\n",
       " 0.29361800104379654,\n",
       " 0.2935138829052448,\n",
       " 0.29278552159667015,\n",
       " 0.2924773134291172,\n",
       " 0.29187723994255066,\n",
       " 0.2907105050981045,\n",
       " 0.28989965468645096,\n",
       " 0.2883688025176525,\n",
       " 0.286748006939888,\n",
       " 0.2858792133629322,\n",
       " 0.28557969257235527,\n",
       " 0.2858489118516445,\n",
       " 0.28556616231799126,\n",
       " 0.285417765378952,\n",
       " 0.28483808785676956,\n",
       " 0.284479308873415,\n",
       " 0.28376225009560585,\n",
       " 0.2822476178407669,\n",
       " 0.2802509106695652,\n",
       " 0.27829790115356445,\n",
       " 0.2751713804900646,\n",
       " 0.266633041203022,\n",
       " 0.25209496915340424,\n",
       " 0.2377376016229391,\n",
       " 0.22383929416537285,\n",
       " 0.21482032537460327,\n",
       " 0.20841914601624012,\n",
       " 0.20489019341766834,\n",
       " 0.20301763154566288,\n",
       " 0.2031763568520546,\n",
       " 0.20380201376974583,\n",
       " 0.20456345565617085,\n",
       " 0.20543093793094158,\n",
       " 0.20557343773543835,\n",
       " 0.20570934750139713,\n",
       " 0.20612780563533306,\n",
       " 0.2063227016478777,\n",
       " 0.2058302816003561,\n",
       " 0.20525425672531128,\n",
       " 0.20494881086051464,\n",
       " 0.20471282489597797,\n",
       " 0.2050215806812048,\n",
       " 0.20708617009222507,\n",
       " 0.21065758727490902,\n",
       " 0.21744045428931713,\n",
       " 0.22884194180369377,\n",
       " 0.240562055259943,\n",
       " 0.2501869536936283,\n",
       " 0.2563161998987198,\n",
       " 0.2610741965472698,\n",
       " 0.2617371529340744,\n",
       " 0.2624322287738323,\n",
       " 0.26219791918992996,\n",
       " 0.26101154088974,\n",
       " 0.25977345183491707,\n",
       " 0.25867826491594315,\n",
       " 0.2576926127076149,\n",
       " 0.25643641874194145,\n",
       " 0.25504016503691673,\n",
       " 0.2531323991715908,\n",
       " 0.25141629576683044,\n",
       " 0.24993512779474258,\n",
       " 0.24823672696948051,\n",
       " 0.24723551981151104,\n",
       " 0.24743168242275715,\n",
       " 0.24711863324046135,\n",
       " 0.24697140790522099,\n",
       " 0.24564644135534763,\n",
       " 0.2434274386614561,\n",
       " 0.24269354715943336,\n",
       " 0.24163701571524143,\n",
       " 0.2407213505357504,\n",
       " 0.23957934230566025,\n",
       " 0.2399569321423769,\n",
       " 0.23938299715518951,\n",
       " 0.23803015053272247,\n",
       " 0.23723955266177654,\n",
       " 0.23616577498614788,\n",
       " 0.23486609384417534,\n",
       " 0.23327302187681198,\n",
       " 0.23252934217453003,\n",
       " 0.23159038834273815,\n",
       " 0.23068885877728462,\n",
       " 0.2301386520266533,\n",
       " 0.22985292226076126,\n",
       " 0.2296241708099842,\n",
       " 0.22989130206406116,\n",
       " 0.2302492894232273,\n",
       " 0.2303413562476635,\n",
       " 0.23070106841623783,\n",
       " 0.2312440536916256,\n",
       " 0.23153594695031643,\n",
       " 0.23196195624768734,\n",
       " 0.232326690107584,\n",
       " 0.23286176845431328,\n",
       " 0.23330730386078358,\n",
       " 0.23448332026600838,\n",
       " 0.23476399295032024,\n",
       " 0.23605462163686752,\n",
       " 0.23737511038780212,\n",
       " 0.23839036375284195,\n",
       " 0.23920036479830742,\n",
       " 0.2394523210823536,\n",
       " 0.24014508537948132,\n",
       " 0.24090231768786907,\n",
       " 0.2416207604110241,\n",
       " 0.24232658185064793,\n",
       " 0.24315875582396984,\n",
       " 0.24396860226988792,\n",
       " 0.2450798936188221,\n",
       " 0.24609330296516418,\n",
       " 0.24705404043197632,\n",
       " 0.2484386283904314,\n",
       " 0.24825749546289444,\n",
       " 0.24909594096243382,\n",
       " 0.25029983185231686,\n",
       " 0.2507796846330166,\n",
       " 0.25074741058051586,\n",
       " 0.25174932554364204,\n",
       " 0.2521951496601105,\n",
       " 0.2527126558125019,\n",
       " 0.25285179167985916,\n",
       " 0.2526138238608837,\n",
       " 0.25273989513516426,\n",
       " 0.252975944429636,\n",
       " 0.253009419888258,\n",
       " 0.2530272901058197,\n",
       " 0.25248030573129654,\n",
       " 0.2521854415535927,\n",
       " 0.25197527185082436,\n",
       " 0.251529261469841,\n",
       " 0.25111449509859085,\n",
       " 0.25041658990085125,\n",
       " 0.25034199468791485,\n",
       " 0.2501480970531702,\n",
       " 0.2501156646758318,\n",
       " 0.2500696238130331,\n",
       " 0.24954422563314438,\n",
       " 0.2479410469532013,\n",
       " 0.24670914560556412,\n",
       " 0.24576481617987156,\n",
       " 0.24528678692877293,\n",
       " 0.24567971006035805,\n",
       " 0.24528339505195618,\n",
       " 0.24396423436701298,\n",
       " 0.24362690187990665,\n",
       " 0.24276790581643581,\n",
       " 0.241780336946249,\n",
       " 0.2409045286476612,\n",
       " 0.24033599346876144,\n",
       " 0.23870725370943546,\n",
       " 0.23612296395003796,\n",
       " 0.2322574369609356,\n",
       " 0.22515733540058136,\n",
       " 0.2159097008407116,\n",
       " 0.2061106637120247,\n",
       " 0.19624080881476402,\n",
       " 0.18869567289948463,\n",
       " 0.18307891860604286,\n",
       " 0.17847386375069618,\n",
       " 0.17629923857748508,\n",
       " 0.1748606041073799,\n",
       " 0.1745587307959795,\n",
       " 0.17452809400856495,\n",
       " 0.17495087906718254,\n",
       " 0.17505048215389252,\n",
       " 0.17517053335905075,\n",
       " 0.17503146827220917,\n",
       " 0.17496323212981224,\n",
       " 0.1745364610105753,\n",
       " 0.17400917410850525,\n",
       " 0.17378154769539833,\n",
       " 0.17380191572010517,\n",
       " 0.17354824393987656,\n",
       " 0.17335232719779015,\n",
       " 0.17330154217779636,\n",
       " 0.17381847836077213,\n",
       " 0.17422494292259216,\n",
       " 0.17497620359063148,\n",
       " 0.17567694187164307,\n",
       " 0.1763677652925253,\n",
       " 0.17686335556209087,\n",
       " 0.17719759605824947,\n",
       " 0.17759664170444012,\n",
       " 0.178161745890975,\n",
       " 0.1791015025228262,\n",
       " 0.17938079126179218,\n",
       " 0.17987916804850101,\n",
       " 0.180062435567379,\n",
       " 0.18025257624685764,\n",
       " 0.180962186306715,\n",
       " 0.18140071257948875,\n",
       " 0.18202121928334236,\n",
       " 0.1822307277470827,\n",
       " 0.182546840980649,\n",
       " 0.1825524866580963,\n",
       " 0.18288548290729523,\n",
       " 0.1829039342701435,\n",
       " 0.18283948302268982,\n",
       " 0.18303455971181393,\n",
       " 0.18314471282064915,\n",
       " 0.1828215792775154,\n",
       " 0.18259851820766926,\n",
       " 0.1821337305009365,\n",
       " 0.1818530634045601,\n",
       " 0.1811440084129572,\n",
       " 0.18048552237451077,\n",
       " 0.1796460673213005,\n",
       " 0.1785463448613882,\n",
       " 0.1777480524033308,\n",
       " 0.17695373483002186,\n",
       " 0.1762437094002962,\n",
       " 0.17584306374192238,\n",
       " 0.17521659471094608,\n",
       " 0.17438985593616962,\n",
       " 0.17375104501843452,\n",
       " 0.17339007183909416,\n",
       " 0.17288462817668915,\n",
       " 0.17190161906182766,\n",
       " 0.1711357031017542,\n",
       " 0.16994682885706425,\n",
       " 0.1693034116178751,\n",
       " 0.16942822933197021,\n",
       " 0.170778289437294,\n",
       " 0.17327639646828175,\n",
       " 0.17914704978466034,\n",
       " 0.18776969984173775,\n",
       " 0.20127441361546516,\n",
       " 0.21700316295027733,\n",
       " 0.23650458827614784,\n",
       " 0.2548491209745407,\n",
       " 0.272890642285347,\n",
       " 0.29165273159742355,\n",
       " 0.3104899302124977,\n",
       " 0.32836052030324936,\n",
       " 0.3482200466096401,\n",
       " 0.36561014875769615,\n",
       " 0.3798845447599888,\n",
       " 0.39472103118896484,\n",
       " 0.4095546789467335,\n",
       " 0.42222943156957626,\n",
       " 0.43687399476766586,\n",
       " 0.4570254795253277,\n",
       " 0.474485095590353,\n",
       " 0.49315548315644264,\n",
       " 0.5137854367494583,\n",
       " 0.5338904783129692,\n",
       " 0.546385832130909,\n",
       " 0.5600163489580154,\n",
       " 0.5729100108146667,\n",
       " 0.5876402780413628,\n",
       " 0,\n",
       " 0.6430612057447433,\n",
       " 0,\n",
       " 0,\n",
       " 0,\n",
       " 0,\n",
       " 0,\n",
       " 0,\n",
       " 0,\n",
       " 0,\n",
       " 0,\n",
       " 0]"
      ]
     },
     "execution_count": 123,
     "metadata": {},
     "output_type": "execute_result"
    }
   ],
   "source": [
    "real_position = position[720:1100]\n",
    "real_position"
   ]
  },
  {
   "cell_type": "code",
   "execution_count": 143,
   "id": "3264d105",
   "metadata": {},
   "outputs": [
    {
     "data": {
      "text/plain": [
       "380"
      ]
     },
     "execution_count": 143,
     "metadata": {},
     "output_type": "execute_result"
    }
   ],
   "source": [
    "1100-720"
   ]
  },
  {
   "cell_type": "code",
   "execution_count": 129,
   "id": "a10e27c4",
   "metadata": {},
   "outputs": [
    {
     "data": {
      "text/plain": [
       "[0,\n",
       " 0,\n",
       " 0.3525012172758579,\n",
       " 0.33940402790904045,\n",
       " 0.32506609708070755,\n",
       " 0.3079763241112232,\n",
       " 0.28934455662965775,\n",
       " 0.26893145591020584,\n",
       " 0.24852763675153255,\n",
       " 0.22987398877739906,\n",
       " 0.21326647698879242,\n",
       " 0.19920839183032513,\n",
       " 0.18674185127019882,\n",
       " 0.17572959698736668,\n",
       " 0.1651958990842104,\n",
       " 0.15829552337527275,\n",
       " 0.1527127232402563,\n",
       " 0.14832199551165104,\n",
       " 0.1445434745401144,\n",
       " 0.14141699858009815,\n",
       " 0.13935436867177486,\n",
       " 0.13803979195654392,\n",
       " 0.13712710700929165,\n",
       " 0.1372253242880106,\n",
       " 0.1377732064574957,\n",
       " 0.1392277330160141,\n",
       " 0.14114617928862572,\n",
       " 0.14314739033579826,\n",
       " 0.14586739614605904,\n",
       " 0.14873515255749226,\n",
       " 0.15235823020339012,\n",
       " 0.15681261010468006,\n",
       " 0.16285374946892262,\n",
       " 0.17088017240166664,\n",
       " 0.18028556928038597,\n",
       " 0.1901735421270132,\n",
       " 0.1985792461782694,\n",
       " 0.2076862957328558,\n",
       " 0.21423183009028435,\n",
       " 0.21993486769497395,\n",
       " 0.22474469244480133,\n",
       " 0.22895619086921215,\n",
       " 0.23141014203429222,\n",
       " 0.2337148431688547,\n",
       " 0.23662418127059937,\n",
       " 0.23869452439248562,\n",
       " 0.24112355709075928,\n",
       " 0.24375574104487896,\n",
       " 0.2462458796799183,\n",
       " 0.24861976504325867,\n",
       " 0.25093783251941204,\n",
       " 0.25382034853100777,\n",
       " 0.25719892606139183,\n",
       " 0.25979384779930115,\n",
       " 0.26237863302230835,\n",
       " 0.265734177082777,\n",
       " 0.26878955215215683,\n",
       " 0.27189742401242256,\n",
       " 0.2748841270804405,\n",
       " 0.27856646105647087,\n",
       " 0.28193554282188416,\n",
       " 0.2849164940416813,\n",
       " 0.28751830756664276,\n",
       " 0.29113752394914627,\n",
       " 0.29514045268297195,\n",
       " 0.2990397997200489,\n",
       " 0.3028208240866661,\n",
       " 0.30698803067207336,\n",
       " 0.309738464653492,\n",
       " 0.3129752688109875,\n",
       " 0.316430501639843,\n",
       " 0.3205600045621395,\n",
       " 0.3232341483235359,\n",
       " 0.3256915621459484,\n",
       " 0.32836175709962845,\n",
       " 0.3308577500283718,\n",
       " 0.33237310126423836,\n",
       " 0.33361445367336273,\n",
       " 0.33346420526504517,\n",
       " 0.33268507197499275,\n",
       " 0.33297526463866234,\n",
       " 0.3321923017501831,\n",
       " 0.3308275081217289,\n",
       " 0.33036693558096886,\n",
       " 0.3288791924715042,\n",
       " 0.326731838285923,\n",
       " 0.32360459864139557,\n",
       " 0.3215431831777096,\n",
       " 0.318232886493206,\n",
       " 0.31644824519753456,\n",
       " 0.31458939984440804,\n",
       " 0.31258851662278175,\n",
       " 0.3102853447198868,\n",
       " 0.30890392139554024,\n",
       " 0.30713895708322525,\n",
       " 0.30525748804211617,\n",
       " 0.3037095181643963,\n",
       " 0.30234452337026596,\n",
       " 0.30062713474035263,\n",
       " 0.2992230914533138,\n",
       " 0.2980668507516384,\n",
       " 0.29656004533171654,\n",
       " 0.2967040427029133,\n",
       " 0.29792333394289017,\n",
       " 0.29725896194577217,\n",
       " 0.29734721779823303,\n",
       " 0.29800527915358543,\n",
       " 0.2966763414442539,\n",
       " 0.2968980222940445,\n",
       " 0.29725852236151695,\n",
       " 0.29797346517443657,\n",
       " 0.2984379455447197,\n",
       " 0.29780660569667816,\n",
       " 0.29676083475351334,\n",
       " 0.2959279268980026,\n",
       " 0.2949052229523659,\n",
       " 0.29399243369698524,\n",
       " 0.29361800104379654,\n",
       " 0.2935138829052448,\n",
       " 0.29278552159667015,\n",
       " 0.2924773134291172,\n",
       " 0.29187723994255066,\n",
       " 0.2907105050981045,\n",
       " 0.28989965468645096,\n",
       " 0.2883688025176525,\n",
       " 0.286748006939888,\n",
       " 0.2858792133629322,\n",
       " 0.28557969257235527,\n",
       " 0.2858489118516445,\n",
       " 0.28556616231799126,\n",
       " 0.285417765378952,\n",
       " 0.28483808785676956,\n",
       " 0.284479308873415,\n",
       " 0.28376225009560585,\n",
       " 0.2822476178407669,\n",
       " 0.2802509106695652,\n",
       " 0.27829790115356445,\n",
       " 0.2751713804900646,\n",
       " 0.266633041203022,\n",
       " 0.25209496915340424,\n",
       " 0.2377376016229391,\n",
       " 0.22383929416537285,\n",
       " 0.21482032537460327,\n",
       " 0.20841914601624012,\n",
       " 0.20489019341766834,\n",
       " 0.20301763154566288,\n",
       " 0.2031763568520546,\n",
       " 0.20380201376974583,\n",
       " 0.20456345565617085,\n",
       " 0.20543093793094158,\n",
       " 0.20557343773543835,\n",
       " 0.20570934750139713,\n",
       " 0.20612780563533306,\n",
       " 0.2063227016478777,\n",
       " 0.2058302816003561,\n",
       " 0.20525425672531128,\n",
       " 0.20494881086051464,\n",
       " 0.20471282489597797,\n",
       " 0.2050215806812048,\n",
       " 0.20708617009222507,\n",
       " 0.21065758727490902,\n",
       " 0.21744045428931713,\n",
       " 0.22884194180369377,\n",
       " 0.240562055259943,\n",
       " 0.2501869536936283,\n",
       " 0.2563161998987198,\n",
       " 0.2610741965472698,\n",
       " 0.2617371529340744,\n",
       " 0.2624322287738323,\n",
       " 0.26219791918992996,\n",
       " 0.26101154088974,\n",
       " 0.25977345183491707,\n",
       " 0.25867826491594315,\n",
       " 0.2576926127076149,\n",
       " 0.25643641874194145,\n",
       " 0.25504016503691673,\n",
       " 0.2531323991715908,\n",
       " 0.25141629576683044,\n",
       " 0.24993512779474258,\n",
       " 0.24823672696948051,\n",
       " 0.24723551981151104,\n",
       " 0.24743168242275715,\n",
       " 0.24711863324046135,\n",
       " 0.24697140790522099,\n",
       " 0.24564644135534763,\n",
       " 0.2434274386614561,\n",
       " 0.24269354715943336,\n",
       " 0.24163701571524143,\n",
       " 0.2407213505357504,\n",
       " 0.23957934230566025,\n",
       " 0.2399569321423769,\n",
       " 0.23938299715518951,\n",
       " 0.23803015053272247,\n",
       " 0.23723955266177654,\n",
       " 0.23616577498614788,\n",
       " 0.23486609384417534,\n",
       " 0.23327302187681198,\n",
       " 0.23252934217453003,\n",
       " 0.23159038834273815,\n",
       " 0.23068885877728462,\n",
       " 0.2301386520266533,\n",
       " 0.22985292226076126,\n",
       " 0.2296241708099842,\n",
       " 0.22989130206406116,\n",
       " 0.2302492894232273,\n",
       " 0.2303413562476635,\n",
       " 0.23070106841623783,\n",
       " 0.2312440536916256,\n",
       " 0.23153594695031643,\n",
       " 0.23196195624768734,\n",
       " 0.232326690107584,\n",
       " 0.23286176845431328,\n",
       " 0.23330730386078358,\n",
       " 0.23448332026600838,\n",
       " 0.23476399295032024,\n",
       " 0.23605462163686752,\n",
       " 0.23737511038780212,\n",
       " 0.23839036375284195,\n",
       " 0.23920036479830742,\n",
       " 0.2394523210823536,\n",
       " 0.24014508537948132,\n",
       " 0.24090231768786907,\n",
       " 0.2416207604110241,\n",
       " 0.24232658185064793,\n",
       " 0.24315875582396984,\n",
       " 0.24396860226988792,\n",
       " 0.2450798936188221,\n",
       " 0.24609330296516418,\n",
       " 0.24705404043197632,\n",
       " 0.2484386283904314,\n",
       " 0.24825749546289444,\n",
       " 0.24909594096243382,\n",
       " 0.25029983185231686,\n",
       " 0.2507796846330166,\n",
       " 0.25074741058051586,\n",
       " 0.25174932554364204,\n",
       " 0.2521951496601105,\n",
       " 0.2527126558125019,\n",
       " 0.25285179167985916,\n",
       " 0.2526138238608837,\n",
       " 0.25273989513516426,\n",
       " 0.252975944429636,\n",
       " 0.253009419888258,\n",
       " 0.2530272901058197,\n",
       " 0.25248030573129654,\n",
       " 0.2521854415535927,\n",
       " 0.25197527185082436,\n",
       " 0.251529261469841,\n",
       " 0.25111449509859085,\n",
       " 0.25041658990085125,\n",
       " 0.25034199468791485,\n",
       " 0.2501480970531702,\n",
       " 0.2501156646758318,\n",
       " 0.2500696238130331,\n",
       " 0.24954422563314438,\n",
       " 0.2479410469532013,\n",
       " 0.24670914560556412,\n",
       " 0.24576481617987156,\n",
       " 0.24528678692877293,\n",
       " 0.24567971006035805,\n",
       " 0.24528339505195618,\n",
       " 0.24396423436701298,\n",
       " 0.24362690187990665,\n",
       " 0.24276790581643581,\n",
       " 0.241780336946249,\n",
       " 0.2409045286476612,\n",
       " 0.24033599346876144,\n",
       " 0.23870725370943546,\n",
       " 0.23612296395003796,\n",
       " 0.2322574369609356,\n",
       " 0.22515733540058136,\n",
       " 0.2159097008407116,\n",
       " 0.2061106637120247,\n",
       " 0.19624080881476402,\n",
       " 0.18869567289948463,\n",
       " 0.18307891860604286,\n",
       " 0.17847386375069618,\n",
       " 0.17629923857748508,\n",
       " 0.1748606041073799,\n",
       " 0.1745587307959795,\n",
       " 0.17452809400856495,\n",
       " 0.17495087906718254,\n",
       " 0.17505048215389252,\n",
       " 0.17517053335905075,\n",
       " 0.17503146827220917,\n",
       " 0.17496323212981224,\n",
       " 0.1745364610105753,\n",
       " 0.17400917410850525,\n",
       " 0.17378154769539833,\n",
       " 0.17380191572010517,\n",
       " 0.17354824393987656,\n",
       " 0.17335232719779015,\n",
       " 0.17330154217779636,\n",
       " 0.17381847836077213,\n",
       " 0.17422494292259216,\n",
       " 0.17497620359063148,\n",
       " 0.17567694187164307,\n",
       " 0.1763677652925253,\n",
       " 0.17686335556209087,\n",
       " 0.17719759605824947,\n",
       " 0.17759664170444012,\n",
       " 0.178161745890975,\n",
       " 0.1791015025228262,\n",
       " 0.17938079126179218,\n",
       " 0.17987916804850101,\n",
       " 0.180062435567379,\n",
       " 0.18025257624685764,\n",
       " 0.180962186306715,\n",
       " 0.18140071257948875,\n",
       " 0.18202121928334236,\n",
       " 0.1822307277470827,\n",
       " 0.182546840980649,\n",
       " 0.1825524866580963,\n",
       " 0.18288548290729523,\n",
       " 0.1829039342701435,\n",
       " 0.18283948302268982,\n",
       " 0.18303455971181393,\n",
       " 0.18314471282064915,\n",
       " 0.1828215792775154,\n",
       " 0.18259851820766926,\n",
       " 0.1821337305009365,\n",
       " 0.1818530634045601,\n",
       " 0.1811440084129572,\n",
       " 0.18048552237451077,\n",
       " 0.1796460673213005,\n",
       " 0.1785463448613882,\n",
       " 0.1777480524033308,\n",
       " 0.17695373483002186,\n",
       " 0.1762437094002962,\n",
       " 0.17584306374192238,\n",
       " 0.17521659471094608,\n",
       " 0.17438985593616962,\n",
       " 0.17375104501843452,\n",
       " 0.17339007183909416,\n",
       " 0.17288462817668915,\n",
       " 0.17190161906182766,\n",
       " 0.1711357031017542,\n",
       " 0.16994682885706425,\n",
       " 0.1693034116178751,\n",
       " 0.16942822933197021,\n",
       " 0.170778289437294,\n",
       " 0.17327639646828175,\n",
       " 0.17914704978466034,\n",
       " 0.18776969984173775,\n",
       " 0.20127441361546516,\n",
       " 0.21700316295027733,\n",
       " 0.23650458827614784,\n",
       " 0.2548491209745407,\n",
       " 0.272890642285347,\n",
       " 0.29165273159742355,\n",
       " 0.3104899302124977,\n",
       " 0.32836052030324936,\n",
       " 0.3482200466096401,\n",
       " 0.36561014875769615,\n",
       " 0.3798845447599888,\n",
       " 0.39472103118896484,\n",
       " 0.4095546789467335,\n",
       " 0.42222943156957626,\n",
       " 0.43687399476766586,\n",
       " 0.4570254795253277,\n",
       " 0.474485095590353,\n",
       " 0.49315548315644264,\n",
       " 0.5137854367494583,\n",
       " 0.5338904783129692,\n",
       " 0.546385832130909,\n",
       " 0.5600163489580154,\n",
       " 0.5729100108146667,\n",
       " 0.5876402780413628,\n",
       " 0,\n",
       " 0.6430612057447433,\n",
       " 0,\n",
       " 0,\n",
       " 0,\n",
       " 0,\n",
       " 0,\n",
       " 0,\n",
       " 0,\n",
       " 0,\n",
       " 0,\n",
       " 0]"
      ]
     },
     "execution_count": 129,
     "metadata": {},
     "output_type": "execute_result"
    }
   ],
   "source": [
    "real_position"
   ]
  },
  {
   "cell_type": "code",
   "execution_count": 127,
   "id": "7de58219",
   "metadata": {},
   "outputs": [
    {
     "data": {
      "text/plain": [
       "320"
      ]
     },
     "execution_count": 127,
     "metadata": {},
     "output_type": "execute_result"
    }
   ],
   "source": [
    "len(real_position[60:])"
   ]
  },
  {
   "cell_type": "code",
   "execution_count": 1,
   "id": "b490a053",
   "metadata": {},
   "outputs": [
    {
     "data": {
      "text/plain": [
       "990"
      ]
     },
     "execution_count": 1,
     "metadata": {},
     "output_type": "execute_result"
    }
   ],
   "source": [
    "30 * 33"
   ]
  },
  {
   "cell_type": "code",
   "execution_count": 76,
   "id": "0c2a2483",
   "metadata": {},
   "outputs": [
    {
     "data": {
      "text/plain": [
       "36.66666666666667"
      ]
     },
     "execution_count": 76,
     "metadata": {},
     "output_type": "execute_result"
    }
   ],
   "source": [
    "1100/1320*44"
   ]
  },
  {
   "cell_type": "code",
   "execution_count": 104,
   "id": "877dbfae",
   "metadata": {},
   "outputs": [
    {
     "data": {
      "text/plain": [
       "[0.3525012172758579,\n",
       " 0.33940402790904045,\n",
       " 0.32506609708070755,\n",
       " 0.3079763241112232,\n",
       " 0.28934455662965775,\n",
       " 0.26893145591020584,\n",
       " 0.24852763675153255,\n",
       " 0.22987398877739906,\n",
       " 0.21326647698879242,\n",
       " 0.19920839183032513,\n",
       " 0.18674185127019882,\n",
       " 0.17572959698736668,\n",
       " 0.1651958990842104,\n",
       " 0.15829552337527275,\n",
       " 0.1527127232402563,\n",
       " 0.14832199551165104,\n",
       " 0.1445434745401144,\n",
       " 0.14141699858009815,\n",
       " 0.13935436867177486,\n",
       " 0.13803979195654392,\n",
       " 0.13712710700929165,\n",
       " 0.1372253242880106,\n",
       " 0.1377732064574957,\n",
       " 0.1392277330160141,\n",
       " 0.14114617928862572,\n",
       " 0.14314739033579826,\n",
       " 0.14586739614605904,\n",
       " 0.14873515255749226,\n",
       " 0.15235823020339012,\n",
       " 0.15681261010468006,\n",
       " 0.16285374946892262,\n",
       " 0.17088017240166664,\n",
       " 0.18028556928038597,\n",
       " 0.1901735421270132,\n",
       " 0.1985792461782694,\n",
       " 0.2076862957328558,\n",
       " 0.21423183009028435,\n",
       " 0.21993486769497395,\n",
       " 0.22474469244480133,\n",
       " 0.22895619086921215,\n",
       " 0.23141014203429222,\n",
       " 0.2337148431688547,\n",
       " 0.23662418127059937,\n",
       " 0.23869452439248562,\n",
       " 0.24112355709075928,\n",
       " 0.24375574104487896,\n",
       " 0.2462458796799183,\n",
       " 0.24861976504325867,\n",
       " 0.25093783251941204,\n",
       " 0.25382034853100777,\n",
       " 0.25719892606139183,\n",
       " 0.25979384779930115,\n",
       " 0.26237863302230835,\n",
       " 0.265734177082777,\n",
       " 0.26878955215215683,\n",
       " 0.27189742401242256,\n",
       " 0.2748841270804405,\n",
       " 0.27856646105647087,\n",
       " 0.28193554282188416,\n",
       " 0.2849164940416813,\n",
       " 0.28751830756664276,\n",
       " 0.29113752394914627,\n",
       " 0.29514045268297195,\n",
       " 0.2990397997200489,\n",
       " 0.3028208240866661,\n",
       " 0.30698803067207336,\n",
       " 0.309738464653492,\n",
       " 0.3129752688109875,\n",
       " 0.316430501639843,\n",
       " 0.3205600045621395,\n",
       " 0.3232341483235359,\n",
       " 0.3256915621459484,\n",
       " 0.32836175709962845,\n",
       " 0.3308577500283718,\n",
       " 0.33237310126423836,\n",
       " 0.33361445367336273,\n",
       " 0.33346420526504517,\n",
       " 0.33268507197499275,\n",
       " 0.33297526463866234,\n",
       " 0.3321923017501831,\n",
       " 0.3308275081217289,\n",
       " 0.33036693558096886,\n",
       " 0.3288791924715042,\n",
       " 0.326731838285923,\n",
       " 0.32360459864139557,\n",
       " 0.3215431831777096,\n",
       " 0.318232886493206,\n",
       " 0.31644824519753456,\n",
       " 0.31458939984440804,\n",
       " 0.31258851662278175,\n",
       " 0.3102853447198868,\n",
       " 0.30890392139554024,\n",
       " 0.30713895708322525,\n",
       " 0.30525748804211617,\n",
       " 0.3037095181643963,\n",
       " 0.30234452337026596,\n",
       " 0.30062713474035263,\n",
       " 0.2992230914533138,\n",
       " 0.2980668507516384,\n",
       " 0.29656004533171654,\n",
       " 0.2967040427029133,\n",
       " 0.29792333394289017,\n",
       " 0.29725896194577217,\n",
       " 0.29734721779823303,\n",
       " 0.29800527915358543,\n",
       " 0.2966763414442539,\n",
       " 0.2968980222940445,\n",
       " 0.29725852236151695,\n",
       " 0.29797346517443657,\n",
       " 0.2984379455447197,\n",
       " 0.29780660569667816,\n",
       " 0.29676083475351334,\n",
       " 0.2959279268980026,\n",
       " 0.2949052229523659,\n",
       " 0.29399243369698524,\n",
       " 0.29361800104379654,\n",
       " 0.2935138829052448,\n",
       " 0.29278552159667015,\n",
       " 0.2924773134291172,\n",
       " 0.29187723994255066,\n",
       " 0.2907105050981045,\n",
       " 0.28989965468645096,\n",
       " 0.2883688025176525,\n",
       " 0.286748006939888,\n",
       " 0.2858792133629322,\n",
       " 0.28557969257235527,\n",
       " 0.2858489118516445,\n",
       " 0.28556616231799126,\n",
       " 0.285417765378952,\n",
       " 0.28483808785676956,\n",
       " 0.284479308873415,\n",
       " 0.28376225009560585,\n",
       " 0.2822476178407669,\n",
       " 0.2802509106695652,\n",
       " 0.27829790115356445,\n",
       " 0.2751713804900646,\n",
       " 0.266633041203022,\n",
       " 0.25209496915340424,\n",
       " 0.2377376016229391,\n",
       " 0.22383929416537285,\n",
       " 0.21482032537460327,\n",
       " 0.20841914601624012,\n",
       " 0.20489019341766834,\n",
       " 0.20301763154566288,\n",
       " 0.2031763568520546,\n",
       " 0.20380201376974583,\n",
       " 0.20456345565617085,\n",
       " 0.20543093793094158,\n",
       " 0.20557343773543835,\n",
       " 0.20570934750139713,\n",
       " 0.20612780563533306,\n",
       " 0.2063227016478777,\n",
       " 0.2058302816003561,\n",
       " 0.20525425672531128,\n",
       " 0.20494881086051464,\n",
       " 0.20471282489597797,\n",
       " 0.2050215806812048,\n",
       " 0.20708617009222507,\n",
       " 0.21065758727490902,\n",
       " 0.21744045428931713,\n",
       " 0.22884194180369377,\n",
       " 0.240562055259943,\n",
       " 0.2501869536936283,\n",
       " 0.2563161998987198,\n",
       " 0.2610741965472698,\n",
       " 0.2617371529340744,\n",
       " 0.2624322287738323,\n",
       " 0.26219791918992996,\n",
       " 0.26101154088974,\n",
       " 0.25977345183491707,\n",
       " 0.25867826491594315,\n",
       " 0.2576926127076149,\n",
       " 0.25643641874194145,\n",
       " 0.25504016503691673,\n",
       " 0.2531323991715908,\n",
       " 0.25141629576683044,\n",
       " 0.24993512779474258,\n",
       " 0.24823672696948051,\n",
       " 0.24723551981151104,\n",
       " 0.24743168242275715,\n",
       " 0.24711863324046135,\n",
       " 0.24697140790522099,\n",
       " 0.24564644135534763,\n",
       " 0.2434274386614561,\n",
       " 0.24269354715943336,\n",
       " 0.24163701571524143,\n",
       " 0.2407213505357504,\n",
       " 0.23957934230566025,\n",
       " 0.2399569321423769,\n",
       " 0.23938299715518951,\n",
       " 0.23803015053272247,\n",
       " 0.23723955266177654,\n",
       " 0.23616577498614788,\n",
       " 0.23486609384417534,\n",
       " 0.23327302187681198,\n",
       " 0.23252934217453003,\n",
       " 0.23159038834273815,\n",
       " 0.23068885877728462,\n",
       " 0.2301386520266533,\n",
       " 0.22985292226076126,\n",
       " 0.2296241708099842,\n",
       " 0.22989130206406116,\n",
       " 0.2302492894232273,\n",
       " 0.2303413562476635,\n",
       " 0.23070106841623783,\n",
       " 0.2312440536916256,\n",
       " 0.23153594695031643,\n",
       " 0.23196195624768734,\n",
       " 0.232326690107584,\n",
       " 0.23286176845431328,\n",
       " 0.23330730386078358,\n",
       " 0.23448332026600838,\n",
       " 0.23476399295032024,\n",
       " 0.23605462163686752,\n",
       " 0.23737511038780212,\n",
       " 0.23839036375284195,\n",
       " 0.23920036479830742,\n",
       " 0.2394523210823536,\n",
       " 0.24014508537948132,\n",
       " 0.24090231768786907,\n",
       " 0.2416207604110241,\n",
       " 0.24232658185064793,\n",
       " 0.24315875582396984,\n",
       " 0.24396860226988792,\n",
       " 0.2450798936188221,\n",
       " 0.24609330296516418,\n",
       " 0.24705404043197632,\n",
       " 0.2484386283904314,\n",
       " 0.24825749546289444,\n",
       " 0.24909594096243382,\n",
       " 0.25029983185231686,\n",
       " 0.2507796846330166,\n",
       " 0.25074741058051586,\n",
       " 0.25174932554364204,\n",
       " 0.2521951496601105,\n",
       " 0.2527126558125019,\n",
       " 0.25285179167985916,\n",
       " 0.2526138238608837,\n",
       " 0.25273989513516426,\n",
       " 0.252975944429636,\n",
       " 0.253009419888258,\n",
       " 0.2530272901058197,\n",
       " 0.25248030573129654,\n",
       " 0.2521854415535927,\n",
       " 0.25197527185082436,\n",
       " 0.251529261469841,\n",
       " 0.25111449509859085,\n",
       " 0.25041658990085125,\n",
       " 0.25034199468791485,\n",
       " 0.2501480970531702,\n",
       " 0.2501156646758318,\n",
       " 0.2500696238130331,\n",
       " 0.24954422563314438,\n",
       " 0.2479410469532013,\n",
       " 0.24670914560556412,\n",
       " 0.24576481617987156,\n",
       " 0.24528678692877293,\n",
       " 0.24567971006035805,\n",
       " 0.24528339505195618,\n",
       " 0.24396423436701298,\n",
       " 0.24362690187990665,\n",
       " 0.24276790581643581,\n",
       " 0.241780336946249,\n",
       " 0.2409045286476612,\n",
       " 0.24033599346876144,\n",
       " 0.23870725370943546,\n",
       " 0.23612296395003796,\n",
       " 0.2322574369609356,\n",
       " 0.22515733540058136,\n",
       " 0.2159097008407116,\n",
       " 0.2061106637120247,\n",
       " 0.19624080881476402,\n",
       " 0.18869567289948463,\n",
       " 0.18307891860604286,\n",
       " 0.17847386375069618,\n",
       " 0.17629923857748508,\n",
       " 0.1748606041073799,\n",
       " 0.1745587307959795,\n",
       " 0.17452809400856495,\n",
       " 0.17495087906718254,\n",
       " 0.17505048215389252,\n",
       " 0.17517053335905075,\n",
       " 0.17503146827220917,\n",
       " 0.17496323212981224,\n",
       " 0.1745364610105753,\n",
       " 0.17400917410850525,\n",
       " 0.17378154769539833,\n",
       " 0.17380191572010517,\n",
       " 0.17354824393987656,\n",
       " 0.17335232719779015,\n",
       " 0.17330154217779636,\n",
       " 0.17381847836077213,\n",
       " 0.17422494292259216,\n",
       " 0.17497620359063148,\n",
       " 0.17567694187164307,\n",
       " 0.1763677652925253,\n",
       " 0.17686335556209087,\n",
       " 0.17719759605824947,\n",
       " 0.17759664170444012,\n",
       " 0.178161745890975,\n",
       " 0.1791015025228262,\n",
       " 0.17938079126179218,\n",
       " 0.17987916804850101,\n",
       " 0.180062435567379,\n",
       " 0.18025257624685764,\n",
       " 0.180962186306715,\n",
       " 0.18140071257948875,\n",
       " 0.18202121928334236,\n",
       " 0.1822307277470827,\n",
       " 0.182546840980649,\n",
       " 0.1825524866580963,\n",
       " 0.18288548290729523,\n",
       " 0.1829039342701435,\n",
       " 0.18283948302268982,\n",
       " 0.18303455971181393,\n",
       " 0.18314471282064915,\n",
       " 0.1828215792775154,\n",
       " 0.18259851820766926,\n",
       " 0.1821337305009365,\n",
       " 0.1818530634045601,\n",
       " 0.1811440084129572,\n",
       " 0.18048552237451077,\n",
       " 0.1796460673213005,\n",
       " 0.1785463448613882,\n",
       " 0.1777480524033308,\n",
       " 0.17695373483002186,\n",
       " 0.1762437094002962,\n",
       " 0.17584306374192238,\n",
       " 0.17521659471094608,\n",
       " 0.17438985593616962,\n",
       " 0.17375104501843452,\n",
       " 0.17339007183909416,\n",
       " 0.17288462817668915,\n",
       " 0.17190161906182766,\n",
       " 0.1711357031017542,\n",
       " 0.16994682885706425,\n",
       " 0.1693034116178751,\n",
       " 0.16942822933197021,\n",
       " 0.170778289437294,\n",
       " 0.17327639646828175,\n",
       " 0.17914704978466034,\n",
       " 0.18776969984173775,\n",
       " 0.20127441361546516,\n",
       " 0.21700316295027733,\n",
       " 0.23650458827614784,\n",
       " 0.2548491209745407,\n",
       " 0.272890642285347,\n",
       " 0.29165273159742355,\n",
       " 0.3104899302124977,\n",
       " 0.32836052030324936,\n",
       " 0.3482200466096401,\n",
       " 0.36561014875769615,\n",
       " 0.3798845447599888,\n",
       " 0.39472103118896484,\n",
       " 0.4095546789467335,\n",
       " 0.42222943156957626,\n",
       " 0.43687399476766586,\n",
       " 0.4570254795253277,\n",
       " 0.474485095590353,\n",
       " 0.49315548315644264,\n",
       " 0.5137854367494583,\n",
       " 0.5338904783129692,\n",
       " 0.546385832130909,\n",
       " 0.5600163489580154,\n",
       " 0.5729100108146667,\n",
       " 0.5876402780413628,\n",
       " 0.6430612057447433,\n",
       " 0.8986970409750938,\n",
       " 0.8945277258753777,\n",
       " 0.9254097267985344,\n",
       " 0.9088922217488289]"
      ]
     },
     "execution_count": 104,
     "metadata": {},
     "output_type": "execute_result"
    }
   ],
   "source": [
    "new_1"
   ]
  },
  {
   "cell_type": "code",
   "execution_count": 111,
   "id": "a66d2ce9",
   "metadata": {},
   "outputs": [],
   "source": [
    "import scipy"
   ]
  },
  {
   "cell_type": "code",
   "execution_count": 146,
   "id": "83fdf9d9",
   "metadata": {},
   "outputs": [
    {
     "data": {
      "text/plain": [
       "1335"
      ]
     },
     "execution_count": 146,
     "metadata": {},
     "output_type": "execute_result"
    }
   ],
   "source": [
    "len(position)"
   ]
  },
  {
   "cell_type": "code",
   "execution_count": 149,
   "id": "54889dfc",
   "metadata": {},
   "outputs": [
    {
     "data": {
      "text/plain": [
       "905.9999999999999"
      ]
     },
     "execution_count": 149,
     "metadata": {},
     "output_type": "execute_result"
    }
   ],
   "source": [
    "(26+4.2)/44.5*1335"
   ]
  },
  {
   "cell_type": "code",
   "execution_count": 151,
   "id": "3b14362f",
   "metadata": {},
   "outputs": [
    {
     "data": {
      "text/plain": [
       "126"
      ]
     },
     "execution_count": 151,
     "metadata": {},
     "output_type": "execute_result"
    }
   ],
   "source": [
    "sound_position = position[780:906]\n",
    "len(sound_position)"
   ]
  },
  {
   "cell_type": "code",
   "execution_count": 160,
   "id": "4c43e7c1",
   "metadata": {},
   "outputs": [
    {
     "data": {
      "text/plain": [
       "4158"
      ]
     },
     "execution_count": 160,
     "metadata": {},
     "output_type": "execute_result"
    }
   ],
   "source": [
    "actual_sound_position =[]\n",
    "for i in sound_position:\n",
    "    for j in range(33):\n",
    "        actual_sound_position.append(i)\n",
    "        \n",
    "len(actual_sound_position)"
   ]
  },
  {
   "cell_type": "code",
   "execution_count": 153,
   "id": "82162e47",
   "metadata": {},
   "outputs": [
    {
     "data": {
      "text/plain": [
       "33.63492063492063"
      ]
     },
     "execution_count": 153,
     "metadata": {},
     "output_type": "execute_result"
    }
   ],
   "source": [
    "4238/126"
   ]
  },
  {
   "cell_type": "code",
   "execution_count": 161,
   "id": "b0c71d17",
   "metadata": {},
   "outputs": [
    {
     "data": {
      "text/plain": [
       "80"
      ]
     },
     "execution_count": 161,
     "metadata": {},
     "output_type": "execute_result"
    }
   ],
   "source": [
    "4238-4158"
   ]
  },
  {
   "cell_type": "code",
   "execution_count": 162,
   "id": "79f77a7a",
   "metadata": {},
   "outputs": [],
   "source": [
    "for i in range(40):\n",
    "    actual_sound_position.insert(0,0)\n",
    "    actual_sound_position.append(0)"
   ]
  },
  {
   "cell_type": "code",
   "execution_count": 163,
   "id": "7ca27362",
   "metadata": {},
   "outputs": [
    {
     "data": {
      "text/plain": [
       "4238"
      ]
     },
     "execution_count": 163,
     "metadata": {},
     "output_type": "execute_result"
    }
   ],
   "source": [
    "len(actual_sound_position)"
   ]
  },
  {
   "cell_type": "code",
   "execution_count": 164,
   "id": "ce994799",
   "metadata": {},
   "outputs": [],
   "source": [
    "from pydub import AudioSegment\n",
    "from pydub.playback import play\n",
    "\n",
    "AudioSegment.converter = '/usr/local/bin/ffmpeg'\n",
    "\n",
    "def adjust_sound_by_coordinates(input_file, output_file, coordinates):\n",
    "    # 오디오 파일 읽기\n",
    "    audio = AudioSegment.from_file(input_file)\n",
    "\n",
    "    # 좌표 값에 따라 왼쪽과 오른쪽 사운드를 조절\n",
    "    for i in range(len(audio)):\n",
    "        # 예시로 x 좌표 값과 프레임 위치에 따라 조절값 계산\n",
    "        x_coordinate = coordinates[i]\n",
    "        adjustment = (x_coordinate - 0.5) * 10   # 예시로 x 좌표 값과 프레임 위치에 따라 조절값 계산\n",
    "\n",
    "        left_channel = audio[i].split_to_mono()[0] - adjustment\n",
    "        right_channel = audio[i].split_to_mono()[1] + adjustment\n",
    "\n",
    "        # 왼쪽과 오른쪽 채널을 다시 합치기\n",
    "        modified_audio = AudioSegment.from_mono_audiosegments(left_channel, right_channel)\n",
    "\n",
    "        # 조절된 오디오를 원래 위치에 덮어쓰기\n",
    "        audio = audio.overlay(modified_audio, position=i)\n",
    "\n",
    "    # 조절된 오디오를 새로운 파일로 내보내기\n",
    "    audio.export(output_file, format=\"mp3\")\n",
    "\n",
    "# 사용 예시\n",
    "input_file = \"S#17 C#3 후시녹음.wav\"\n",
    "output_file = \"S#17 C#3 후시녹음_output_audio_coordinates.mp3\"\n",
    "coordinates = actual_sound_position  # 실제 좌표 값으로 변경\n",
    "adjust_sound_by_coordinates(input_file, output_file, coordinates)\n"
   ]
  },
  {
   "cell_type": "code",
   "execution_count": 159,
   "id": "e38238af",
   "metadata": {},
   "outputs": [
    {
     "data": {
      "text/html": [
       "\n",
       "                    <audio controls>\n",
       "                        <source src=\"data:audio/mpeg;base64,SUQzBAAAAAAAIlRTU0UAAAAOAAADTGF2ZjYwLjMuMTAwAAAAAAAAAAAAAAD/+1QAAAAAAAAAAAAAAAAAAAAAAAAAAAAAAAAAAAAAAAAAAABJbmZvAAAADwAAACcAADtAAAkJEBAQFhYdHR0jIyoqKjAwNzc3PT09RERKSkpRUVdXV11dZGRkampqcXF3d3d+foSEhIuLkZGRmJienp6lpaWrq7Kysri4v7+/xcXMzMzS0tLZ2d/f3+bm7Ozs8/P5+fn//wAAAABMYXZjNjAuMy4AAAAAAAAAAAAAAAAkBIAAAAAAAAA7QHj0Bp//+5RkAAAC7hxIkwYZ8isAGLgEIgAL/JMtbLDJQKYAJOAhDAAARJBT25KCMQchrDOIo8Y97DgMLyCBBByd2hEOTT56fRcAAAALfoGabuIQzAR4BHSGYfhvMPDw9sAMwM6f+bzOcAAN//4gAEAG/zDx+BARP4f/h7oAB/9Dx8cAACAgCAAAgQnXPiCJ1ADBDD+UwwsMM1/Lv4n/h/jz96Mh/lJDB/58Tn//gh6wfABciJAFnF4b1AsCkmwDjD4JelxVQHToQAaA1NTp/0JmqIsP6oZbRRKRNMZxArassre6CT5MbD/xc76eM2+YPD7AcDIBEorbFj4SKVz4sKnjnndTWPcWesu3yQ+bO7aPQBzAjSLelzyQlesfNtuZeS2ie0119RD/dsmdnjHBdjn4Hlbfd33//6LkqgENEAA5gFKhCAhxpS7mTCYpgvkR6eQ0FGizhQxkrGbWxUPlYPJomaipRwJpoCBZZuEpFDLLJ4iQ1pzMwlMX3KozEmabgvFHCI7/+5RkJIEDRChKw28xYCgACTUMIAANHKUrbDDLwMKAJOQRCbgPC0NlgqAjxYsjxVOeaVCItzvqsWBnJzCB5XkLmWuhI0EIAw1Q8su4q15PQxPR3Uf+u5/6akt/+5+4tqU/Re/0udiy2q486ZABMTIBB+w6QBVboxSTP815u1Az9rA9FAshIDo8sslVtcdVOFrUCpVDRRU7RFlieyocnMM9Eg77aLZdo9Ak7eESyJ0AigkQH9TS1A+/i71KZAB16CAstjkSBUVcJ6gOxQ7V20fil0nKKWEoyAkgAUoQaLvFHLHQfrbjkNJ73sVs1MNr1fut7U63m1rvcXvAL91VqOG1X391ZmoAxuAgAQJbGFjBGstZcVPpxyWPxJFxTEI4TPPXRo07Ru4SRWsKCEOTUaJFnI7QiD1Pp4wnmY1ZjvX/Yt2RMeBQZ43XSg9WaZKARdkyIMnYKrlXEqe/Unx1q0MW43vqrUsFGUBakAiJRZY2UC14o9rNnMNoQwg1N+vtcvX/+5RkPYADACjLWwwx0CtgGUkEIgANDL8tDLEJwJMAJeQAAAA329tKKNcuhnr9wCV/7+j9QN1oCgURGFI4Siq/mtv+16AYFJglHq8bjwocPjscmFh2WHZKjJ2kVMwWjWYU6PS+ZlEs9CIwac2WGo+efXuUqqUEwTCpajBxZGd7W/N8401zWLkaFOKmhjEWE2FxFRspEW+j41eYRVho57vm+mBaxRAEStUAVEH0djWlVaV6j93/6vPfVMquuiyf/1f+qgDLqSAZ4QMlQYbVdcqe5rbKWHQltm4S2IuBIlJDKx48bYbbxdPYpxgBnlA9NH3Kj4ozwXS2+nU2a+01O8amUiTb/N1Rgo81sQA0WJxhuqQrsp3X3WUXW3xHdseZveAETEAWBUAInmypwgsQeKXR0JBvbGUK+r29e3Vaxdo9i1j9kDzqUfQ3X9gz1bFNBrpDga2CTEQ2aRNz3hafAzjw6zYobAcKhtYIcJIHwoCuhdEgJj6WYRCCiDnc838s8w3/+5RkXwIC6yjLIykzUC6g+UwEIggLyKMtDKTKQK8AZXAgiACHcrther/+XL4qCTJSLeHUZMmHjBY2YLkzo90UYnpojTLDj1p5ulZn8Z7t2kCAOIoI8RAx82VkChO16O1mzormSIzxVNf/b8ekfVp91DEn22lk661N9nfoADcZAAAEAc8UGCAqbUfZtHXAbs6TXXcj95/n/jUgrGAVqC6JTwLDik9pxJSQMC/xAGSo3lIVDVEq5c/cSM+oOSAoXEVmSsVtN//VWl1yvfd5hYkWIisSMP6kVWn8hm2odL2/FO2L3CJOJpspJwkkXSo0PUxJJexjVC2pkzFEfStX6XOqeAzX/q+n/ca/3ekAKFoAHrHoWFlGpGsa0379qORqovXoYrEZ4ro420qY5fW67Jsnxpldt2R+W3v7YUiVCDQi8dz6i6tmj7t+AsgMUb5pGDUXGOeLia+eWLWnZaKAAqtBqsy51C2Alyr+EULIso2XzRMRVltM7/SANhIMJW0a5r7/+5RkggIDNzbLY2ZD4CggKX0IIgAMwKMqjbDJwKMAJfAwCAC9pQgl1NCUyTTNyFP7K6/Y0ZXvv9///9P/pgFtQAAFpTGggxg7DJ4PaxL3hfV94ZcSNPswXOCRGRMJoSkMIyxbt1ofVSbDxJbjxGHWcqkUGHJqi23ovdpmWkzF9QyGVBkNGMAAmguDTQq24J4STHxRek6ikHRQxbVc2hQvSK8JS7QRiqwHkiSVQG4gsRCqzy0UTDBiUilrZ17h+l3b2Zt/3luH/6Yy9mskj9nqQrpUkAuJMAMOgDMAZJhEQXdSsrZXL4EtQBCuGwqdJORrG5IBbc/1vatvKQwVlk7P4X1URtWchjrDC+Y1zZCgJIHkchZzE8ijzhVcuChIwoOXmq2mEGEGz+KR6AItarEbnW1xlWdVoCJjigIUDxCoJEziCaFtuU1j1V2Vdn7P/sTWU2P9+P6UxX4e3ehiSdp/oxcwCkAACl80IZXDIhiEw+C8eAYGkTwPIjYIsHWRShT/+5RkoQIDTihKw0kzYCvAGUkEQgAMaKUtbTBrwK0AZSwhCADGyhG8VFRdAZZidGUWDCJhZpYFhTaFQiNgzSKE5zvq5LcShaOKBUs33MSsmEyMMR4DlUwvx8BNNu3WC9/cp23xaN/5dnr+LW8vCv/2c6+Pu8X+0LvvsGBJCaIgWWLh4uhs2rVZXSqUQ21vp/ozf1Mc64idQz7X3MpR8Wt0maaHsoAEjaQALnjDRBmjquQ/LZ30UeddynkkRAwC81VGB4g2BFkzmIViTGErIFgQgv2y5+UL1Zn2ZBGlyNtgWCVQcxDcGqGOq1AN5OKQ7rILRfWgdfSlR7HrFm0vRqtXbt9eoX3UEqQQa0emMHsjlo7HpswA89H7nM7P/s9nq0fS33Pd/V6/WzVVAVYAADmIbMHA4OCbcF6qmZe7jBmsuBDxY4bpRasNH7IJ4OB2r+KSUcLFN7ssGMLr0rkA2rrZ6cWb23hRPeszGmJCkNTgEknlr1FNtprzH3d/SZ8eF4//+5RkvQMDnClKQ0xIoisAGUgEIgAL4KcsjaRrwJaAZWRggABzgUShCmTz1iyzOOes08UMnjBtpNgpRh6oXUhDECwCADAgJLk8iOHeZVV0uGupdHRR1Dq6/ot72udZZXx0/oTrx8e+KRxt99LN06+hawdZAOlhwwCAyAAQav7qyXldOJPG/Mpfl1B0KHWyFdkqiQNEoqGS7BikYxZCLkI/kLWmSD1ISZqksW6gcWl+wyXU2LCQU0MkoXOIvZ6/pbHTqnsMTuX0DsOvXn91rZ7z+gKR6r/z5//Vh9/+y3KmLO7v6gF0x3gNI1xMWSXsVfNNqpizGa6n7ddtf9N7uv7e6r+336/+K9QRIAAANSwjSgpApCEtwqBvl2vKxFZj7Qe7T8xB9Y5q5LJqG4baCJDh0IFh7HelXKMnasT3S4SAPiCfH2oj4hIj1mFuifY2zpReD79646uTGjp2saQSzKdhqzd6bbXnbbeiH3s99Pr1etP1oSogtcZ0rkJnTYsl8vP/+5Rk2QMDnzBKQ4wy8C8hyTgkIg4OQL8pDiUNiJOApSCAiACsjm2IIgUzSZ8n5MnInm6fnMcNxqRshKgIKwAA54uJ1lVlFIm1J5N5FiKnITfFlWkZ188/xtDdv2Kp+fE3Wz9z7cipOmv6AK0QPiKzHSdNklBXpddPRszwsQd5YTcggnODMVtLUjJyc7rKESNHlk2FDrRuCkSpceKIaYib6+sWpOVL3PHdunYcKHhO9HDFFiI793kUlMPlz88tTXEu1R+59I079pI/ezuSNjdX9//dNb7uo3XySTmv6TK9EEogHZiEBRl7ILlWJapNfo/T6f+cjv+n3scQcmgUJ12/v5ZFv3KqAEkAADuhyMkBZHB3FakgFdtRtL6WU4rgMBopTDMl10PByBALgMBXAenYzDsqJ0/lkrHpmSy2hnZ2R09NZaOjJyXG4H36wpOibLmxmGrj0+IyCLo8DEAKFFGGamXhUEQYgWEHIGZCEjoFcJMGhRGDbhDk2KkXt2ndTiz/+5Rk6gMEcV3Iw2wc8jAgKTkYIgAOTL8pDaRvyKKApWRgAAD9VRWoEnubRwWiSZf0Kh03lbpHkQ4gLBZJF2gR581IjVxFOkNlGjUbixVL0s/t3O+wDFHtNDE1/6Pk//rm9aiTk1gGsAd6MJkUfiEGwQlYWuWlGmpsuiEHxpyqjYYrAhVlkVBkHZQOi8CcTIGLBUZHjgOCVKPXoEXVvMQOttKxU3OUpKSE1DqqzBEsopOIEGFCyFuGi/KgmaHCkTaV1NT9f+08//dvvW1q1dJSJDn4/6da3IPwPt3609etcVKACygOANJAhNC6UVFzYkNU6d9zd7evctLV0/UL9aD/VSs1yDu+19PO5fIIU9NVmkCmKgI0AAA/qsOopqKKJXxFplRa7KWHOrE4i2d66kbQKE0PFDJRrATCk4vSLkx+MRW0blqFI4KRK6NttggLV1H32ku9SHkcN0atfBra0SNd9hg1EBCjGvlLa5nuV/bLUNDBXyl8zJ0IjzeCr6ZX7XH/+5Rk6wMEd2JIw4wb8CzAGVwYIwAPeTknDiRvyMOA5OCRAADLT6XXxFHQ0j7ZJqIN+oHa4rdlgBdeMEaAEjLyKETjBLF2Ln4i2enZd/6/fYgueQg4ZiyzJxoZGGxdQVS2pnGf/9QgDoYhFmUAgav1s66FzyuHXNeuNWIpJIBp7zuxkjCamPy7JUAUkQjMrewTwIhQLlcROXmyBChFOIt98bO9eHM6Jm9X1T5wcVMzllcmTgw4cORBAGi87FGOSoRzhTPIJS39pUctp9RPpba/TNrz2hvSaUpwNJKUZ9HTR0Q4cPxUtwBJCNgIOoAzHJmBmoVrdhTOIIRY7f0oa7wHueM/o6P7ut6f3f+3+6z1VQIBAAA4DHowsFgSA8wLBwwJANL+Ur3SWak6q/Za30noXulMj3Bs9TOjhUkFqKOTO/WoM2wPrSRCArVyA1HXOgS5TQxB1WOT66sG1kagIekBghI2nFTYlOhwC05nCEoFDMfJ3nXVp9JoaBAamYMcu+D/+5Rk5IMEBFDJQ0wb8i5gCUkMAAAQDUskrjBvyKOFpTBgiCiVGw8keL6Z5m0wUNIaZ85Qw0ztOmFzfa3CDLRqmFHSPkLwewM2u0xnGAIAnEA6po6Dq3pLhGWNC2YHC7eplP89KPQ7s3IO2UMQy5DZhP4bo2LYhC8mMcrf3GhQHrjFRybYMlKt5ji5m/WMuZShlszTONboHz3QxJ5otG60r5EInA8/KqlyGILmYDjFJXtPhTMijNBdsRCQwLIvskpBm2Qpsel/OaedPScHJGTrY1NGXX3qLYe+c+ZsjQIxiYPSdecKoWdZUoL3q6R4+goGVOeqxMMVhRmEmsLKkoKx1BGRU4YY4aWiVkJwrGWdCQAhlb3hq9LWIYIwIJa1JNhdq//r3pj0pNKbY9BVDkUN/b/tR819vXn0KgwAAe89A5gMfE2bLQelLRIGaXkw5+KGNuVG30bJKYFh6G35T9mWFpCJ4nEpMsOzNKXyqECeJemMgYKKoA8FQeCx66z1lbH/+5Rk5gMEx2JIQ6keojDgGSgkIgARuV8irTB6iLaAZSQQAABFJ3G956pWOMLk58AGT9OOiXFcxvFN+gp/WjR8UNjfTyUyRdsjLboJ1emSVSlVSO17WWmmRt83/lzOdO0czKOR8zQlgM5MyMSCjiSwjSSjxiEsSJGPIgO9uoVUyhBkmhX7vf26DD/8feznNW3t7urXvcpyXsXpBFgA+QLzEA5TcLrKwqgZG/Lc1dt4s59H+d2vCYFQj8SimRykFRYqcjQTnxLP7EMOCGJYsPi2nQwVUHzURmfDz6Ota+x9/dYqh3WXp5M0jEA45arKOLOilmKqr3GvZvtbykVU26UzrDLrZcrH3w3FRCL309TUbq02/0k19rddDbnXZmjnj5PHg0BoAuPEcsMtTQ0oqHqMjEOYTtQKLZpvpox3lfV9H1/19jfp817LHdUEpAAAPoHYxUNjCoLFASyVXCDjwrRabF3OuNdmmx136l8ZlbPIexho7jKQyD54j1RD8JCGqAX/+5Rk0QMEeWJIq2wc4izgKVkIAAARzX8lDjEPwIYAZaRwAAA20uHNguHR6nfHMpn9o1tj5c40wd81pKnX2FZ84w5B5XMEwaEcrojSW0u8aMIt2V1vjtnPmpc0bN2+rJCq/EjeoR6paSOt/nHyNuhaMgfC88xMDF+1+JhrJAAiYHxD6EmLhVKgApgB4eEAkItFFqY6u7Y1XbY7pT27On8SDRA085CW+rSjUqroR4h3en9YgEAH3MJlKIsciCktU406W2Z5IHkzzb5+4ZgmpMQV0E1hWXZ9xzLx6W1xYfdFx8BYxNWhDHJtGkQxPWDgdK9bx1ml8YbrQ4V/x1D7JZMbtuv4o6LJvF8ff30zljGZNmrZRLY90pmhnK/oV1I6R1DpMZm6H7XmSZTjJuxlDJXn0+mCFBBYzGwGcMdElGQAQSw5KwoJHWljVghWpyrhZfs0MRW6gx/VZo/q0V2X6EberZ6f8zpVAJRAADjZHMMDoMOAyCn8cxEpTZMZPp4Xour/+5RkyQMEuV9Iw4xE0iyAGUkcAAAQ/X8lDbBxyK8C5SQQjAD+h59ZVSHuk4qqEpbVUM1RgdLn/ufhMuH8mn9SwC1S8ylQERP60GLIelfRtWfUbjVtISRQdFmI6TL7W4psbB/qRKX0wzGboiuTupl3aFZtwq9PEb+ikhw2Uy0+bBczZ/2MtWPuqqVyaVTHSCA66ECGIy0QgAMgSFlhxaUh0weUdafahm2qkYz9v7NWvV5D9mno/9JCr/mfTA4rBswmD8wmBAuWiapuste0JYm6roNnYLGYZiTv5QHD7QSBSPheNT3y8Jq4+D0hANC4UEUqD5GnTpUNzHSWRkDK2QnnObpZSy1ZEdoRVX6kOnX1h4uSmTiilpu723r9sBBzI3DOhbkQMUFL6DlCfMDawIVqdh6bosurpQhPCiGp5BCWlNrwij3cs4mA6hVItjyAJBqCDBoOSiz4oISASLXlyxWvu2a7tPcn1uyjn9v/3f+nV62q7PqVAEgAADyKcMHBwxr/+5RkuwsUPV9JQ4wb8ioAGUwYAAASQX8irrBxyJqDJXBwjEgA0DR4BTaGEZbuyqSQzF2+lsWeWCiyeKSyWLm5wemoeHTy5XC0hH5ILpPUxQKzAeN6wnls4rMbj1+1yHtaoiX5EhcQy403r4MDEhSWQ35FbD3hI0GXIoUJpsqG+kz7YcJSWl8OGUIyVuFSP1pE/Oa55/mIIR3cCyW5DU6DGBMIiAOg8gJWuY6QZsFjsWf30X/+3/b12OUMDDexHtZ+mm3X+jedpFoc4Bm7LZiQm1luyqrB4qtumWGlE66sPwPL5iWUMeQhnW3lc+HgkF0snmL2sXDg+fVRg6jEk9wqvE9DrK+OlPq95++y5UyTPLiecqaQa6YLDlxy9Z1uk59P6aeqMRrO1GYIZqzER9pzopWcllvayMajuaWb9U3RmdcmWi9nQFO8J2ACQhIZKAQDPHHAIhzFheLMshlFV02+v+1FTv9/Rb+zd8/2exW1lv6qlQMpAAA44fMfAigfL/P/+5Rks4MEMVpJQ4wb8iigGUkkAAAQNXkkrbBRyKOAJXAgAACGg81lQbqgSp7J50bx/MzpnfMabXT1ExrvmsuxYnZUeyJAABoHLRvEZci2DoAmsTPhbDFUxJytliNqaKzokktJAzEnbg7VGcqpVH1VVHLSvUaVeEIv9ipHzfWFQmm39+BLWrHycb6i6n/yq/pbdi91oWCDCIgCMGSDXki7qqZ58krv79Ndv9fq7F9Fikt303J+bYpGtNAu5PacbeAQnSHAf/DogMu+4qymnrHaLCX9ZxTwe7dqK1Lhaap9UVBAfJ0xs0I3IBJQEAbUFa8UYGiUh1vRUOFxEgab2aq8fC9RrBszTxWmn2mp2TsGSdNjm182vR0Y19rfcf1DbzvS8PukN/1Roej7x2m+ry/TOBqlsV4W04UBadfgDf1tuEAAmMECwjTBkg97liBdzleraYfFv+7d+Sb6IWvSp/J/6astt/dQDHgAADOTQgMgKQEFwTwtr4f0AgqmKM6ESdr/+5RktIMT8zLJw29Jci0AGTgEAAAPyO8kraTPyJUAZSwQAABSosOUigXqA9dgUNko/YXo2yOOZaoerqENIWXLPwFOaK8yntZVZR+Gl7HVk0DsY7cfsrelzLqWTS+AiQnCk6dw2WHhYwb2ST62Osu+8p9smTf9z/TfZsQ9izEJ/uBAVmBZVAAkCsJpEilB1o7jr27kJ4e9nx3693pN22fJvinVory3++z8gAQQ4ADmsICOHT8ZzAcqdN7mt23EkrBYKPTEktkosHICdNKRmRxAUVF0BpStORFI1ITAQi/BR3UjiXB2X/7T1teTZKUEBaiBZI8GW4eW+G5TDRNoathdmuQSgJDticFbNhaZ09K6sBtBvv47nfrfJbWO1jv9bRMDwniEPSlhos9DyLEMQBG3N9bOnb99X9VFb8xX+wZ3PEa6y4kESqjd2zn0VQkIQAA/VfMecCANrJlNYR9deBWrrpgJ9qkCxdjtK/csk5OBhDxktLmIINl1kZObQB3Gxkv/+5RkuwMDvClJw09gwighKUkEIgoO9K8mjDDNiKeAJNQAAAAODdaV4o7uomkptF8Dt3nPQ9pvnq16rCArWWPpcQ3Ui5fbKUYt3TmzmdiqMVLpJp1i/pXupdoZ5TKcWtzGkHB9Gnee8yVHYA7FcW+hFEuLDQ4RrxQFwAId5gohg5x5SCLk0rSy6qqp3+N4uISImasnf/662Xe8c+zrcjoSjRu9A6MAHNQIYWK7oiQPaIw6BmZSBqzytOh5icrnW/rIhKKKYRw+EHVDZVBofojvGEZLH72oTvKXPFcd3S5jqJht5H+uq70u066/qI+HRGdtFm4PAVcOwoYmlLGDoNOioS1X1YoWYQjpMefrLr0qUw74LfTpmZIrjWtx2srufZnh0wIB+/U4bQojVKAYOCpNRAXlaZdDRaxOwaycY+90p4rNDRdXUy9rWM6FDXp78Sb26LOv6qkLGgAAO2cGjgwELQrAIqJ5LqZnGXfjkYVH54oP4yoneaMTAkVMIi0ZI0P/+5RkyAMEKEvJQ2wcci5gKUkYAAAQaR8lDjBvyLyAZSRgjABWr5lEmTzdaVBLS0s2rWYsfMnqxIZaSIxheUzi1oMSKOUceX9QlIH+A25D0w0W5+gn0BBk8lvApj2xnY52pBLiM/+0McvUr9POaSOef9IgNKdAdUTclihwaRTchyXHm6EKq+6zs6P/V/q5mrdR/LI/augwCADhhYwFgX0KAI8IS9RR2GWUsxCH+vy2lhvO/KLQlDSpRtqlQWD0nHVNAVCgKx5dPC1SrZ4x7XLmTq7zxvlmb0WRnsb/l19DdZxaqQaI9K7Dlr1p0dJn5t0a/RUf7g6fOkUNXR3ePoRXQ781KRfyIuDDEC40v11+CjOtSYeFxn6BpxVWgUhEAKTaLrKKJCNDkZUUc3jar6saK6P/Yr/fEyXRxC9Vbm+inHr7dHepDE6AADyhuMEEMwUAFpsNLzuKzBn0EuJPPEy1gQ2Mjl5o/5cvIJbQnAnK4JGWyp9VCZTAEI4Ck6EH87j/+5RkwwMDvyxJw0wy8iQgCUgEIwAQYTslDbBxyK8AJSQxiABGva1UqtJZgRv63nST8lCBGIyp6PGCrLOQWi1905PgTKRRw9zei9yvyV2OZBb8RkMcfUWORzZ2UT3L/hFX09sMNCXyYBORAAgN0w8g+eEZOxr3zxFNDbGtOOf0Xfu5LQlM42MvsFuoFD8VFW9/QzkdKk6v1gsugcYCiKAUCgHR9Xij+v1xlyQGtmUtOajO5iVEU3JVlAqA6GXVV/HlfwIT0mKjVtaSqhuGCpNPRJFJKnGCvciRaWKQrTA5A4kWbAEWYRI56prL7X/1yg9bWv/D4z7nnfjdvmZj53N0LM2qQ3en2vGFtdaJRuzrdT82RvVXSEbOe7CcAkEyRhQ5oEFENRVc/O9Vrk/4+juYqz/HqUxXuo6L2d/q6slPOtoVEmoAADkIcyQLSQetoL8wU6TeMuaw88BLCu1A0O1hsQGhOAIHwuDUzgDL2SHwPUGx0wgFyNUAyqTEYISMiXr/+5Rky4MD9yzJw4xLMjAAKTgkAAAP7QcnDrzJyKgAZSCQAABWEmF6spj8ctBHmukQbOeKKLds8iDNTI0hmWcHuCkJjqvnCm5vczuR526LrPDlidAX6td/z4+o4gr9s5t728jmQLqhIgAESkMJEwkB2E3C/fFbTA4VLBt5VX/q/3I46zky/8t96KVf2OQc9HZoMpPYgxDD0LE65McdpqFt9YaqyyD6TG9E82mM33nUyfjl23E6zWY1WXRBUqswDFA2TKEQwKjyILqtQsXVUI0T5/m22BSHj4YLolX3JohJiPJSUduVP+Q4M8xIt0NzMoejtVR0LNAV4zTDeVz8xHTqldGMNNPk4Skh1fzI4dBIZEzivEVKmBisHkBxzAQWSOeEkm5MkMHI1OR0JN+r+9Ozo7NNEdVVqi6LqLKEzVl7TdmhOSfQBBiAADgEJTCAKW7IA1g2kLAw7DKnmvuQ5e3JyeSQhpBQoGgSCBGfASYopRYkULCzInLOTRvUXYRtKlH/+5RkzQMD70hJw2kb8ilAGUkIAAARFXsiDiR4yLyA5OCQgAAadpxIFv06lFhVRFFlvJhcjc2TsgsMLIjRzyWOzZGsbZEalS1P+erI2lafVHKnWakqqZtdtEPQEo1KEQDYoVeTFITn8A5c4UPMaFZRbo+k6xGepiv0Mv6+uvfgb6E3dfv/b/H+SvqWBVKB4cMItBVQOYz9IFyJK7jatPkbxVJRo6IkS0Co8KQRSQDwtIPUifjMz4aPq2uE21ZWgIF1cam5PyVpuUJygV9nSg6o8rkDTLDd28SBZMBdzO2Ge+nP2n4wt2bv/x0k8h3y4b8lSvvyVt3z++SkNxl9W2ASo0gAhzJxM1YQLkHHqa6lqCmzr7P9Av0X9mSut/+2n1J2dT9mugKUAAA5VCIvgxgCAgGkvEl4OHJFtsNgJr1aUOxGrag7PFSSImDwdKB0NseK9ThlfwVC1GcpzjyMuqvTj6VmIqMHizaewug9yzcZwhFO5Q2JdnIGMqisubmKPFP/+5Rky4MT2FfJw6kT8CbgKUgoIgAOcKsnDmEhSJiDJSxwjBiQY6VzLLfJCQvyXbOWt5fPmpRKCuWvEPaHP0KZXzL4ZMCUKblOOEQRKqyww40UQMbJqedJgJFgwVRKze6UL6YqgPFT6HK/9DWWvjOg4xSnzaEVbP9V6QCTxiQLIYCBUBCaCB8mXqwB6Gcww1udlcBTE7yORyExqdgXuUSkzbwzfs17UliENsxgWkmZ+vEQC54qQgHE7CS0m1JJGrch14v4WuSBATEyAkhgYqqearIX//KM22Ietl/uY6/n8nw2heuBIPG87kPrwuridf/hLklStjH0fZVqdmGUBRPVWEuVBqaMFBqK0RsomKVnuhm6dy5I4/RR+VtUJKG3Ltru+8hW/xSn0buiEkAAAD+A+JjisI5hEBH2lCsLO5RDz+xt4oGizlz0SlcRioIiI4qbBMZj8XDtOpIhDEu5LWt3TcuztYSVr15Sc/dStU912E7bMTb4jIWXdHCQxF/y+vP/+5Rk24cEDlpJQ2wb8C9AGW0IIgAQgO0lDaTYiK8AZWQQAAAxFt2nl3dorTHyHnyZMcDNtpbAs6QlW5FqdNchtb056HdINZvesjr0lKWt9AkKAYAmBIhKuHRKWB6p8/WVlvWL0Nz911v+RijLfM32GmE9K9CdX9X65U7SEQ/YVzDInMeBYmGoVCYYCjBQELAXMfikwUBwcA1DG9a24HHSdTCRw67UCPZTLvcBkzoMhfNckfiS5F9rNLrsqTAh+XNmkTZ3zjkTeZtG7snegYLL4tlYvK9W3qRVVq1CEeGnJ3e51fW6tZLdKXyPOfBCiHb/NP31Qt0/ciJUiIc2NHe4hzhajhEc0QauKnhz6bgRvZCJ16u98azlXCAFIQIACWpNCjHRbarL6atVKqfot7Rj7JUCN7J79b6qvPI+zxTe5XqlqgIAAd5CmMjRggu3FASBAMvMpcKBqKTiQa0pv4YdqbqW5+koJyQU07Xdl3XmjtJbjcagameNeuFekhiMD+v/+5Rk2QMEDjnJQ4wz8iwgGTgkIgATnUUkrjB6iKYApSSQAABqyiLQHjERW4n6S7rDWNSuUxNLMXEyFhxOy6hhQgddrt+rs0tM+mRHlvc34rh2svvq7fD+BdT1V8LfE7zjlFddeWEa2pR+nL1jACgjUoBQKFoajTCCutOYsZ8Zq4r0t6P/lGv49/5n/2+ryGisAM0mAHfUeYVAw0SUz2GoTk5lDnCS9gFmzzymNxacf06K6uVS8xPKWHkex7OGzN0rkAij8eJzNciPpWULMA70ic+vR3rmOtNo0biVvmMDJd7rQIgFhJ+yIWTTEm7BWcicken+VSk7keDzUoMX4P2GEY1pfmK3/+k9CfuR9/ux15dBFkYAEbRgAiwAMxrcxJtKny6D29NtXitzN6UezztYawyN/e7cqvWe3Pt+b6mpMf97kwBJgAAB/YxOCDCwFFQIj4uVMF5H9U3cT6Z2mCP9DmFPSxEMHEhhEYWbLkYa5SQoAo+DIWbtA2RiFNyI+zL/+5RkzIMEKz1Jq2weIiRgGVkYQwAQcQcmjjBvyLqFZTBgjABhi3yM3BBlPdTadmVnLkSBRkntc/sl4XfXzzlj0Wh9gwkrWyNXK7Zgtace+53M3Y08gZrgBc+1ShHjnOnAVj/n5XIt5fl15wQwG7mJOKjMUm2c2ZDL0rLInAvaHd/Xtq6Pd/3CVyf8l91Gn7Pu//0gIQgdDEQQMAMGE5i4iKEONCbkyzKCGvz0CvO8j8CsNgKiIQ0AVVImCgywBJsViiIjSJcYeuSMk3yOk7cE24Mx6s7x674RuETBoIrKqaE87MGexnszMp36wmVqQOEMbGpU0OdG9QRPLCN6K5sE19smC7KoM25KeR+7mLXPxbm+OCAUlMYZQAFjNwEzTzhn7SC0EE9927f023tT//VUj//9mtH9v7v9ilYAAJxRooCCABBtzBEFuK0Rob9v7CxKNQ+Ny+eFokOapOViSIgFg/TkyNo+QiEWhfVuNefMuO2LL55mD5k1dbZxAGyHJB3/+5RkzIMEIEfJw4kccihhqWwYJgwP6SUpDiRvyJsGZXBQmCjZgPMNkcSxI0oQy818gavb3IzlLKPemacUcuyB916NSy1RU9DLTRWmXnxsjrz/GToOhbhTHaqjZUa0il+tkfm4OQ8O0myAIkIqgNxoo1SBszPSN9i9zHUe3+n+tv7Lcb3aNP0/oQp+SN/y4BJ7Q8YwHBhwYIAIS0KQKEBgKpc3BgdaGn2YZA8COEki1Q1VObIhzLDi0VCiOmd9CbV0ynqbxbUhHWWx6yQKuKiaFS+kR8WKwQ9Obm1VXazGY2FVM+p5oy7b4cM30zRykhvIUZYUruNDeObrxHUl3trRYmH2kLZLZ1AVcOAuZGfUkJrrNtzX4WYSy6hyamk3mBq2JcZ1V9e0Kt6a0/a47naV5eFfzQHkDyUy/hR3Fr3DZL0q9xGnxIDJcqrCQDy4stEMn4xjWv6r8nqrR3v/vrZ7Pv7OrT7Up/bv3KjqAAqIdmlWpmRUkMQzLRTSSKOriAf/+5Rk0QcEXWDKq2xC8iTAKUgYIgAXCYcrFbeACJOAZWaMAACg6p3gcuM+FL/g50JAAcIQHs7S9Y2pmux+CARMx06jgQADiJxsQfls76sqgd46HshqQzt14q0SMxWZcaVQ/W3qJ7gR/3ga9AWdHK5bRRvCQ3bVdxF3sNaEgonFM1rMNNfZxJNT8tpv/bJH/g2VWGmQHzLOW38cu3aus8su16aRRiNxWmjFbPHme8sedwwnrlr8M8u7pbc/KLd3Usys97zm6meGGGHLl3uXfs2MMt5f36pw6oWEBn//3M//1gAOzvMMAY7O7bbCe20a2Cve+d6o8oZ0P84wBeUaTA1tbODkc3qNGgKZXIt1+iyd+bFdk90fVI/+re8OAAHMK4JWTBkAHKbNzFgoyIGMdFTOzE1FXBR+CAIwwYAAAWAMwcBXUvxLOEBcPV3uZ4r4cy62c8NAqowiwQBHDUJWeQnBLArDNV7GdAxAHdP1E/EbgKM4i/Ko1lpZgxHricqtZXT/+5RkuAAGf1lQfmsAADohuh/BCAAXtX82vbeACIaAZzOEAATdEYZW1/Ldwhw3jzPvCtmFZ8+tNDzZ02oh4gjQTppN7YnHBUMrlAZs5c4FPn19YN4vz8T/1iS+7PDp5IFZZY0e8PWsaz8f/4xn6/+f9/Hr7QM5fwtxw+7YBALVj61URQreAAwt7pZdOi7t5HVZ2d37vf79+r+7//Z6KgAA+ABBzDkjhITHpQGbAwIcBIqmKOhR8Zg4MDFGqRYqCEvEBgaRYOQg4F8naLNATxDDnHI4Mm6qhFLg6SdlvQpOCwCkCaEqN0egnCofjzA7l/JMOJVtJyMcdvRM8S+5NZf4w26jw/qjzG9QoGZYeKU/94e+4bo4dvV5zmWaarhubnSmN4pvGMf//3/xr3x8U+Y9aalxJhvh6eU+v//Sl/qmt4x9Qb7pTO/jFKTq9vfyR4sUsAgAJ/I5GKBBBC3YGF5YYKort76R/Vd9qP//qZ///1kAAUDI6sggBk0Gg9uEj6P/+5RkcQAFpWBRTWngAh4AmcmhiAAZBXtRuaeAALODKPcGIAAmdEUwHQwNeIlYiZL0FFBnTYgVhHYypIQrBoGEF0aG3EdAhC8JOfVjHNNPi4DDAdC6rw5kY4qo/0LHwN4wSwj6V6kfxgjgIOPK0olTIahOS4oWccOHYP0fzMxsDNKoc6l3d5NuXD1v7HakR/l7BrrF1wrk+FauYmvsv59qCfW7vVKQll/+YsNr1DtqLJpnYGnW7eaJdle4z/7bhRd01Bz9f+Pl/Mr9x83+d10q33gsNv/84hbE///KqAAAQGY91rZEQ0GQ2FgGIyIgfUBDLMUPulx4bkAva273bvTVs/M93/XZ3/+jdQAgE3LGkSSDCWikkCkjBBn2RGeAgGNdMIbOaDYMTGowqgg+iwZ9iDAYhMBCYaIfAQ4UEEsGWJE1D4yuoXpbTNRc42UhXBSpIkcVCgSAsszGXFgKxFiOIsbKL5cOF8OeXxmBVjRIaQIcSqlkXeYISsMwOgiBiQP/+5RkOwAFfFpX7mpABDLg+dnEiAAUqUNKPaeAAJ0DpzOSIAArMQ4hpEWRJlpmnZaAuQghi2YF1IuFbmSaRg6HNHZVBcgArR/6i96vYcCZMFRP9kHczIqpaP5w3M0wAAMNEAObLEAATszYPyWHGQ5M7DVBVzVqRZDK30uLlRL2uYCrrPdFmFvE+kixh3+s//0gCZxkbpyZF6GAS176CMsYRAYRKedWZ4qZ1OWxCExUDOaHFEkS+ixrlTKxWP8x5oHgucM8ijWBxMAkZRhD0PNcNhME/OSEp0ecUVuNFCz+O9SGoGoRYrTKQld1o9ZqRvBbpt3hx4zY25bFdCt/r6rK1v3N8+h3xCfPrb3r/fx/9xp613mHH1HjYtCx7/H3ak0FvYGCR8+gZdx77+KVjzntKRP/WZDoAAAAcCL+CMVEEodVdYCERBJzTaK8/ssYtTUO60Xd/dXJdH/u7f/SACAAAAKyMpyU4UcY29KKheMybTGUMEdR0xhjCHEZLOUcHFX/+5RkEYqEHGBUuyw8YCrBKaksbBIO+S9QTLBPwKQEZdDHpIpxP5Ito8uaYWTNSm6Po4iEIQ/j+Igcg+UCSbqlmyTDkrniYknx4ZjUQiXbaZP0vMFIWtjWD5MgjTFf5yOrESrz0POV2/+Zfsm3/No5xw4XLhYaC8eN2zn/3NKmdm/7JlDwAACAKYGBZdWRwAOCWcQGZkks/Y+nm7BxUwJmBx17DK2N9etGr6f/7v/mQSNcM2QlxFo2rJHqCGWCwQF1IOBdMACJ2tCIhUd50oHBHdskX42crP+2uloSiUWRGLqIeiC+IhALrkaVIjl2ZUNqw8CswP1bm0zL0j3vcvQWMpRyCRxH6FcQLCBiAzMSv/1MUMvqlv/1KRylFGJMAQSb4hMP/pcZABAeDrEeew/UFylRg4K1mTRw2SWqzQATUWLiaK+DhJOv8z/o/93/V+gAwABJjpiWLsbEhgzpWdNAwjNgCmoQYeqlcMFSeVXgKmMywr46Q3LKVrHzmnierpn/+5RkGAiEHFdUuwwr8CjhCZkkyQQQnTlQ7LDPiISCp/BgjESYmR/VPELik/XJgZWHx0qPSySg+A6PQlmVYp12B5n4rQnrA9nQVEhNjF/zCKXh11On+moxQQDCqOxE3ibtSr0KYTETFIJKU0rG2RHW88pRE37ACYAAAgAaYFQTc+SjwAGw6ZF2Syqh1Nz36ddju+8NAUgn+zZ1f/6P1aP9YgAACpgCCUuoAEhXVLmBcIRumYsBkQaUwtaiq0Ms4TzbCH462VHPH12ViR/PdgEkfg8OvQjovrx2L5FUr29yOYrJmTkmnz61y/9fyqKt26qs10GRSTj///6+NJ1uJAllS/f/f//rvb92j/++z/JjEr1WECktEIypC8HfYluo7f9vmnf85cBWLXLcB7qdBB2CS7jNNPQ/QRf7P15Gr/2f9P89Yzf9XTUAQu6AewDFSLmHBxCJGBprBhn9hoWRjSiAlejdpkwwFKxiLqPdbkdaaw49b4R6c/VJKlwvQy11Yo//+5RkHI6Ek0zRi0lelCaAuZkwyRIQ5VNKbLDxyJqEZdSQjUD0FuS6j7MxfxvYcy+ftxY0TB0bG1RWmMIFGDDqgcIqnHFkSaKaZogbiiVj8er7lNOUklnNOnUkB6VPIMriFGQ//dd3z/12yOa4ddKqolg8KGJiGgoX/Z/LAqAADoDLKXRm8iiCgsBRShDrQ69x2rpbrVo1f7iTMj/7v6+j/t//1AAc01ihhHVBhlC8CQwLnEFoUILwpwxpqjAlojwj2wTJpTDay6PlytT1qn0o6kkcSDp+URrBgNZXOdZPUSw+PTVEpgQQiDcPjmHdnLWabr0TkTlKXZMVMBk9sz3RQFEmkiR7DZSJo6zdEb+iJMX6d3OZmd88fCESULFjDS3+YOMbEP5NVR9tFRQ4GT6yc7OlQeI0T5phY7XRJ4owwIxT3yRj7NZa1PvdVJ76u3/4ogQQyFGABWouMQUeWOt17Ym+65Vyl42GtbbrDclsRetFb+ZTn14LTv9/qWZM5hj/+5RkFwCDXUzV6wYsYCshGWg9IwYPYTNKzLCtwJECZiSQmEAochEMxRkRus1HJN2GDcfP0eRNfLoYpRQiMQjdVKUpUZldRzC7N9KXO4859/q7f6rIQcKgoqeSe9wAS5fbQAABIYlW1oDT0qWRAhEDJDEE6kKIVfJPi7X51v0vzcZ/7v+vR/N/9NPT9qQBAEiZ5FEAAs+UDMHbZpy6jTMSZU4Vw6DsxwvCQUTo1PKROVWswFaCfTiUqeROMxOGqhePq0tYcIR0PQdHBT5fhWYQjYyWiJSbEY8ykIyOxbsUOjm5Ga48VFQ6IhY0PhZGFjv71VWHCjKRHo+8/r1VjGHi48Jta/OEjChkUaWQbTMOSyQk2Pi5g2zXuTnko26KPf31WL9+Kff//2M3f+kBk1kxAA2mXgdhxAlynMY0EAKAWgWNPhDEUzFyRymVyClHE0yUGPCuxxW7n/+0SBhJb5/kCXWUaR1fr0dWRiGUzIFupn+/0MiMxQpt+pyVOegJKdr/+5RkKgADNkzV6eYT0ClguWgkxhIL8IVNTCTKQKaCpQTGGAC2r2KqakBQ4MYeW5ouUOPaWr+oAIDR5BUlDhid0OPIMsqEw2m2XeLtTwVFM2ap/p0er/Z0f//1/7UbOzQCAjBAEgSp2krWJzXu3jKF4EgEznncWDiEnAaY09E9I6pNnzL8oworf/u/CJE5eRJZO26ZrG4PCKoJMDx8oRJIDs2BjFfog0BlERZQ4iVBV26rlmoSHWUpyu2LJeRdoKRABOIYObZ4GNQA86SehCmbkszd35FAhdTT/v7+hEf/+Xscy63/u5LrWqoAEKpDyo+RjBED0wKCn+x9GYxVFb0TZa16JZRI5FhTNo32XS4xbcXQSsNDXn+s1utu5jvw0XXqlMXra68lw9pzldbqiaJQzX+qdH/zGcpJqKWY16W9510N/XZpiQqjDDP9R4qS1LSAAhKAAyhHEBI0FY8EqZhiwX12IQr0M7+3+xNXfR//c34tptJr6l2Yo36QAJUAGFT/+5RkSwCDMUxQyywTcCpgmUgkJhAMLKk5LZhtAJcBJQTDBADj440MyM/NB5CQjQmo6rAIdhGEPfL8YdjgxOzkk1E9hl/2hQokSZqYbWjAVuTcDkRKwNVb+qmsoAxt/oTiBw5p+u2uJhVhE7MpEiBE1xJ6I+SNGgaxQ95RXpVm0zgCJiAVDGDVC70pusa+bSnV10f7Lm5z1P1b0J+lPfu9W1KHt/9FAABUZILHTmZELhUEdtmSSylK8WYyiDaZxZXGoYnIy+BE0bL5mNHHRES47ic9c1YtC3ndI75lZ+pVbd0KuKZEH6Ug+Ti9e0kUE63ih4DvDdJv3hgYHwqFihy5Cv/3gQAAhCkwMgABlbKlHm0rsFC67zjDAVR32p91cQqUsp0fQ2zt/RhVCPVZHK4p69VvWQiyrDsrJDqqpbNZbJJJAIfospLbU4CIXQYwBuGg7pCoDsH62jWJCpdN6d9ZsjvflG1yFrEiFigERFVdy/1bEfAM8tvDL9RfGGLDX1D/+5RkbQAC8ilN3W0AAC9hSUyjjAAZqXtV+ZwAELkNprcKMABGuQ1KZRC885nkSvvwsdy37YhKK0PSLj7U2WWdSKu5DjX3bjbkfTy2Xb7Vj8/a5drYv5Djvv/D7uP5nvme7OPO/v9YZcnHfh+Xw5GJx/8auPM8f5jW53fd8/9YxuXw5LJyH43PxiMf////////////////9iH43bjEssRuX24xLLAAjTqVejbkdcjQAAAAAJFZ3dLuSVmtk8c3MSvvE1K+dhTQ4X7BFuQuQMgMwU13qgAEEIAEAAEBAGAABZAHPGT4HIBxLLwNnAGHwkwAbvAB8ElAF38LyO4Rr8KsMUFpDmjG/8YYljEepKq//GGKR0epqcHt//kc6MKXECWH1///RH5jYmpIlRdR///zFKZIomKSReRRMf///9JIkhIAAEMEAAArhDH5XOnssS4oDX7C35U6DQr/CYz/9QFEX/ntqxKd//WCtUxBTUUzLjEwMFVVVVVVVVVVVVVVVVX/+5RkVgADYGBMVkmgAClgCNbAiAAAAAGkHAAAIAAANIOAAARVVVVVVVVVVVVVVVVVVVVVVVVVVVVVVVVVVVVVVVVVVVVVVVVVVVVVVVVVVVVVVVVVVVVVVVVVVVVVVVVVVVVVVVVVVVVVVVVVVVVVVVVVVVVVVVVVVVVVVVVVVVVVVVVVVVVVVVVVVVVVVVVVVVVVVVVVVVVVVVVVVVVVVVVVVVVVVVVVVVVVVVVVVVVVVVVVVVVVVVVVVVVVVVVVVVVVVVVVVVVVVVVVVVVVVVVVVVVVVVVVVVVVVVVVVVVVVVVVVVVVVVVVVVVVVVVVVVVVVVVVVVVVVVVVVVVVVVVVVVVVVVVVVVVVVVVVVVVVVVVVVVVVVVVVVVVVVVVVVVVVVVVVVVVVVVVVVVVVVVVVVVVVVVVVVVVVVVVVVVVVVVVVVVVVVVVVVVVVVVVVVVVVVVVVVVVVVVVVVVVVVVVVVVVVVVVVVVVVVVVVVVVVVVVVVVVVVVVVVVVVVVU=\" type=\"audio/mpeg\"/>\n",
       "                        Your browser does not support the audio element.\n",
       "                    </audio>\n",
       "                  "
      ],
      "text/plain": [
       "<pydub.audio_segment.AudioSegment at 0x15407c990>"
      ]
     },
     "execution_count": 159,
     "metadata": {},
     "output_type": "execute_result"
    }
   ],
   "source": [
    "audio[100:1000]"
   ]
  },
  {
   "cell_type": "code",
   "execution_count": 145,
   "id": "71bd1d17",
   "metadata": {},
   "outputs": [
    {
     "name": "stderr",
     "output_type": "stream",
     "text": [
      "Input #0, wav, from '/var/folders/4q/x88w9k7d1nnbv253rtfwdzc00000gn/T/tmpvv8hg9mg.wav':\n",
      "  Duration: 00:00:04.24, bitrate: 3072 kb/s\n",
      "  Stream #0:0: Audio: pcm_s32le ([1][0][0][0] / 0x0001), 48000 Hz, 2 channels, s32, 3072 kb/s\n",
      "   4.17 M-A: -0.000 fd=   0 aq=    0KB vq=    0KB sq=    0B f=0/0   \r"
     ]
    },
    {
     "name": "stdout",
     "output_type": "stream",
     "text": [
      "\n"
     ]
    }
   ],
   "source": [
    "play(audio)"
   ]
  },
  {
   "cell_type": "code",
   "execution_count": 101,
   "id": "db917489",
   "metadata": {},
   "outputs": [
    {
     "data": {
      "text/plain": [
       "4238"
      ]
     },
     "execution_count": 101,
     "metadata": {},
     "output_type": "execute_result"
    }
   ],
   "source": [
    "len(audio)"
   ]
  },
  {
   "cell_type": "code",
   "execution_count": 166,
   "id": "db997b59",
   "metadata": {},
   "outputs": [
    {
     "data": {
      "image/png": "[encoded data removed]",
      "text/plain": [
       "<Figure size 2400x800 with 1 Axes>"
      ]
     },
     "metadata": {},
     "output_type": "display_data"
    }
   ],
   "source": [
    "import matplotlib.pyplot as plt\n",
    "def plot_waveform(audio_file):\n",
    "    # 오디오 파일 로드\n",
    "    audio = AudioSegment.from_file(audio_file)\n",
    "\n",
    "    # 오디오 데이터 추출\n",
    "    samples = audio.get_array_of_samples()\n",
    "    \n",
    "    # 그래프 크기 조절\n",
    "    plt.figure(figsize = (24,8))\n",
    "\n",
    "    # 파형 그래프 생성\n",
    "    plt.plot(samples)\n",
    "\n",
    "    # 그래프 표시\n",
    "    plt.show()\n",
    "    \n",
    "plot_waveform('S#17 C#3 후시녹음.wav')"
   ]
  },
  {
   "cell_type": "code",
   "execution_count": 167,
   "id": "ab6d8fd7",
   "metadata": {},
   "outputs": [
    {
     "data": {
      "image/png": "[encoded data removed]",
      "text/plain": [
       "<Figure size 2400x800 with 1 Axes>"
      ]
     },
     "metadata": {},
     "output_type": "display_data"
    }
   ],
   "source": [
    "plot_waveform('S#17 C#3 후시녹음_output_audio_coordinates.mp3')"
   ]
  },
  {
   "cell_type": "code",
   "execution_count": null,
   "id": "7f723e45",
   "metadata": {},
   "outputs": [],
   "source": []
  }
 ],
 "metadata": {
  "kernelspec": {
   "display_name": "Python 3 (ipykernel)",
   "language": "python",
   "name": "python3"
  },
  "language_info": {
   "codemirror_mode": {
    "name": "ipython",
    "version": 3
   },
   "file_extension": ".py",
   "mimetype": "text/x-python",
   "name": "python",
   "nbconvert_exporter": "python",
   "pygments_lexer": "ipython3",
   "version": "3.11.3"
  }
 },
 "nbformat": 4,
 "nbformat_minor": 5
}
